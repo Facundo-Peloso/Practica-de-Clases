{
 "cells": [
  {
   "cell_type": "markdown",
   "metadata": {},
   "source": [
    "# REPASO DEL MÓDULO Integrador 1\n",
    "## Incluye Módulos 1 - 2 - 3\n",
    "\n",
    "Voy a hacer un repaso de lo visto en las Clases 1-7 del Primer Módulo"
   ]
  },
  {
   "cell_type": "markdown",
   "metadata": {},
   "source": [
    "## Módulo 1 - Bienvenida/ Repaso\n",
    "\n",
    "No tiene práctica. Solamente se realizan las intalaciones previas."
   ]
  },
  {
   "cell_type": "markdown",
   "metadata": {},
   "source": [
    "# Módulo 2 - Seminarios Adicionales\n",
    "\n",
    "Hay material y contenido de elementos extras como GitHub, Git, SQL, Grafos, Docker, Embedding, etc\n",
    "Para repasar despues como complemento."
   ]
  },
  {
   "cell_type": "markdown",
   "metadata": {},
   "source": [
    "# Módulo 3 - Numpy, Pandas y Estadística"
   ]
  },
  {
   "cell_type": "markdown",
   "metadata": {},
   "source": [
    "#### Clase 1 - Es solo introductoria. Cosas generales de Data Science. No hay práctica."
   ]
  },
  {
   "cell_type": "markdown",
   "metadata": {},
   "source": [
    "#### Clase 2 - Repaso de Bases Python"
   ]
  },
  {
   "cell_type": "code",
   "execution_count": 1,
   "metadata": {},
   "outputs": [],
   "source": [
    "#Repaso de entornos Conda y Jupyter + Repaso de Python::\n",
    "\n",
    "#Ejemplo de Función que saluda\n",
    "def saludo():\n",
    "    #Imprime un saludo\n",
    "    print('Hola Mundo')\n",
    "\n",
    "    return"
   ]
  },
  {
   "cell_type": "code",
   "execution_count": 2,
   "metadata": {},
   "outputs": [
    {
     "name": "stdout",
     "output_type": "stream",
     "text": [
      "Hola Mundo\n"
     ]
    }
   ],
   "source": [
    "#Llamo a la función saludo()\n",
    "saludo()"
   ]
  },
  {
   "cell_type": "code",
   "execution_count": 4,
   "metadata": {},
   "outputs": [],
   "source": [
    "#Saludo con parámetro\n",
    "def saludo_personal(nombre):\n",
    "    #la f antes de las \" es para poder invocar a una variabla string dentro de la oración\n",
    "    #tiene que estar entre los {}. El método .title() pone la primer letra en mayúscula \n",
    "    # y el resto en minuscula\n",
    "    print(f\"Hola {nombre.title()}\")\n",
    "\n",
    "#No hace falta poner si o si un return\n",
    "#     "
   ]
  },
  {
   "cell_type": "code",
   "execution_count": 5,
   "metadata": {},
   "outputs": [
    {
     "name": "stdout",
     "output_type": "stream",
     "text": [
      "Hola Facundo\n",
      "Hola Augusto\n"
     ]
    }
   ],
   "source": [
    "#Invoca a la función pasandole un string directo\n",
    "saludo_personal('Facundo')\n",
    "\n",
    "#Creo una variable string y le paso la variable\n",
    "name='Augusto'\n",
    "saludo_personal(name)"
   ]
  },
  {
   "cell_type": "code",
   "execution_count": 10,
   "metadata": {},
   "outputs": [
    {
     "name": "stdout",
     "output_type": "stream",
     "text": [
      "Hola Facundo Peloso\n",
      "Hola Peloso Facundo\n",
      "Hola Facundo Peloso\n"
     ]
    }
   ],
   "source": [
    "def saludo_completo(nombre, apellido):\n",
    "    #argumentos posicionales, dependen del orden en que se los pase\n",
    "    #conciden dos parámetros con dos argumentos\n",
    "    print(f\"Hola {nombre} {apellido}\")\n",
    "\n",
    "saludo_completo('Facundo', 'Peloso')  \n",
    "\n",
    "#si cambio el orden de los argumentos, cambia como los usa\n",
    "saludo_completo('Peloso', 'Facundo')\n",
    "\n",
    "#la invoco usadno key words, asi no importa el orden\n",
    "saludo_completo(apellido='Peloso', nombre='Facundo')\n"
   ]
  },
  {
   "cell_type": "code",
   "execution_count": 12,
   "metadata": {},
   "outputs": [
    {
     "name": "stdout",
     "output_type": "stream",
     "text": [
      "Hola Facundo Perez\n"
     ]
    }
   ],
   "source": [
    "def saludo_default(nombre, apellido='Perez'):\n",
    "    print(f\"Hola {nombre} {apellido}\")\n",
    "\n",
    "saludo_default('Facundo')"
   ]
  },
  {
   "cell_type": "markdown",
   "metadata": {},
   "source": [
    "argumento Opcional: le pongo valor por defecto en '' (string vacio)\n",
    "Tengo que incluir alguna lógica al programa para que tenga sentido (Usar if)\n",
    "Ejemplo hago return de un full_name y dependiendo del if adjunto el segundo nombre o no"
   ]
  },
  {
   "cell_type": "code",
   "execution_count": 22,
   "metadata": {},
   "outputs": [
    {
     "name": "stdout",
     "output_type": "stream",
     "text": [
      "Los ingredientes son('queso',)\n",
      "<class 'tuple'>\n",
      "Los ingredientes son(('queso', 'huevo', 'aceituna'),)\n",
      "<class 'tuple'>\n",
      "Los ingredientes son('queso',)\n",
      "<class 'tuple'>\n",
      "Los ingredientes son('queso', 'huevo', 'aceituna')\n",
      "<class 'tuple'>\n",
      "Los ingredientes son(['queso', 'huevo', 'aceituna'],)\n",
      "<class 'tuple'>\n"
     ]
    }
   ],
   "source": [
    "#Si le paso una tupla, los números de argumentos son arbitrarios\n",
    "def receta_pizza(*ingredientes):\n",
    "    print(f\"Los ingredientes son{ingredientes}\")\n",
    "    print(type(ingredientes))\n",
    "\n",
    "#ejemplo 1 variable\n",
    "ingre1='queso'\n",
    "ingre2=('queso','huevo','aceituna')\n",
    "\n",
    "#creo una tupla de un elemento y otro vacio?\n",
    "receta_pizza(ingre1)\n",
    "\n",
    "#creo una tupla de un elementos. En el primero hay otra tupla anidada, \n",
    "receta_pizza(ingre2)\n",
    "\n",
    "#crea tupla de un elemento\n",
    "receta_pizza('queso')\n",
    "\n",
    "#al pasarle los string directamente, hace una tupla de tres elementos y no anida\n",
    "receta_pizza('queso', 'huevo', 'aceituna')\n",
    "\n",
    "#si le paso una lista tambien anida la lista en el primer elemento\n",
    "ingre3=['queso', 'huevo', 'aceituna']\n",
    "receta_pizza(ingre3)\n"
   ]
  },
  {
   "cell_type": "code",
   "execution_count": 24,
   "metadata": {},
   "outputs": [
    {
     "name": "stdout",
     "output_type": "stream",
     "text": [
      "{'profesion': 'Ing. Biomédico', 'clave_nombre': 'Facundo', 'clave_apellido': 'Peloso'}\n"
     ]
    }
   ],
   "source": [
    "# si le paso un diccionario la función recibe tantos pares claves como queramos\n",
    "def perfil_usuario(nombre, apellido, **info_usuario):\n",
    "    #paso como parámetros dos string y un diccionario\n",
    "    #**user_info es un diccionario vacio\n",
    "    #primero le agredo al diccionario los parámetros nombre y apellido\n",
    "    info_usuario['clave_nombre']=nombre\n",
    "    info_usuario['clave_apellido']=apellido\n",
    "\n",
    "    return info_usuario\n",
    "\n",
    "usuario_yo=perfil_usuario('Facundo', 'Peloso', profesion='Ing. Biomédico')\n",
    "\n",
    "print(usuario_yo)"
   ]
  },
  {
   "cell_type": "code",
   "execution_count": 26,
   "metadata": {},
   "outputs": [
    {
     "data": {
      "text/plain": [
       "(4, 8)"
      ]
     },
     "execution_count": 26,
     "metadata": {},
     "output_type": "execute_result"
    }
   ],
   "source": [
    "#recordar que return puede devolver varios resultados\n",
    "def ejemplo_varios(x,y):\n",
    "    return x*2,y*2\n",
    "\n",
    "ejemplo_varios(2,4)"
   ]
  },
  {
   "cell_type": "markdown",
   "metadata": {},
   "source": [
    "Variables Globales: Están libres en la Notebook.\n",
    "\n",
    "Variables Locales: Dentro de la función."
   ]
  },
  {
   "cell_type": "markdown",
   "metadata": {},
   "source": [
    "##### Módulos\n",
    "Cómo importar las bibliotecas y módulos.\n",
    "\n",
    "Los módulos son archivos que terminan en .py\n",
    "\n",
    "Puedo crear archivos/módulos que tengan funciones que definí afuera de la notebook."
   ]
  },
  {
   "cell_type": "code",
   "execution_count": 27,
   "metadata": {},
   "outputs": [],
   "source": [
    "#import nombre_módulo: me importa todas las funciones que pertenecen al módulo\n",
    "\n",
    "#import nombre_módulo as nm : idem que anterior pero le pone un alias resumido\n",
    "\n",
    "# para invocar a la función habría que poner:\n",
    "\n",
    "#nombre_módulo.nombre_función()   o  nm.nombre_función()"
   ]
  },
  {
   "cell_type": "markdown",
   "metadata": {},
   "source": [
    "Puedo importar una función exclusiva del módulo\n",
    "\n",
    "from nombre_modulo import nombre_función, nombre_función2\n",
    "\n",
    "asi puedo llamar a funcion y función2 sin tener que escribir el nombre_módulo. antes\n",
    "\n",
    "\n"
   ]
  },
  {
   "cell_type": "markdown",
   "metadata": {},
   "source": [
    "#### Excepciones"
   ]
  },
  {
   "cell_type": "code",
   "execution_count": null,
   "metadata": {},
   "outputs": [],
   "source": []
  },
  {
   "cell_type": "markdown",
   "metadata": {},
   "source": [
    "#### Expresiones Booleanas"
   ]
  },
  {
   "cell_type": "code",
   "execution_count": null,
   "metadata": {},
   "outputs": [],
   "source": []
  }
 ],
 "metadata": {
  "kernelspec": {
   "display_name": "Python 3.7.13 ('dhdsblend2021_geopandas')",
   "language": "python",
   "name": "python3"
  },
  "language_info": {
   "codemirror_mode": {
    "name": "ipython",
    "version": 3
   },
   "file_extension": ".py",
   "mimetype": "text/x-python",
   "name": "python",
   "nbconvert_exporter": "python",
   "pygments_lexer": "ipython3",
   "version": "3.7.13"
  },
  "orig_nbformat": 4,
  "vscode": {
   "interpreter": {
    "hash": "ad9de4c686033d61ec4a9041c872ad5175ac13a3abade902ac254c5065dba19e"
   }
  }
 },
 "nbformat": 4,
 "nbformat_minor": 2
}
