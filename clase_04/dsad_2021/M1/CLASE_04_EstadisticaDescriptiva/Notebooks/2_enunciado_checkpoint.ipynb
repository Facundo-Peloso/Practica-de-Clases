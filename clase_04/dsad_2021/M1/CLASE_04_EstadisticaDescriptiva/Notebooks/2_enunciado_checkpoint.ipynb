{
 "cells": [
  {
   "cell_type": "code",
   "execution_count": 1,
   "metadata": {},
   "outputs": [
    {
     "name": "stdout",
     "output_type": "stream",
     "text": [
      "c:\\Users\\fpeloso\\Digital House\\Prácticas mías\\Practica-de-Clases\\clase_04\\dsad_2021\\common\n",
      "default checking\n",
      "Running command `conda list`... ok\n",
      "jupyterlab=2.2.6 already installed\n",
      "pandas=1.1.5 already installed\n",
      "bokeh=2.2.3 already installed\n",
      "seaborn=0.11.0 already installed\n",
      "matplotlib=3.3.2 already installed\n",
      "ipywidgets=7.5.1 already installed\n",
      "pytest=6.2.1 already installed\n",
      "chardet=4.0.0 already installed\n",
      "psutil=5.7.2 already installed\n",
      "scipy=1.5.2 already installed\n",
      "statsmodels=0.12.1 already installed\n",
      "scikit-learn=0.23.2 already installed\n",
      "xlrd=2.0.1 already installed\n",
      "Running command `conda install --yes nltk=3.5.0`... ok\n",
      "Collecting package metadata (current_repodata.json): ...working... done\n",
      "Solving environment: ...working... done\n",
      "\n",
      "# All requested packages already installed.\n",
      "\n",
      "\n",
      "unidecode=1.1.1 already installed\n",
      "pydotplus=2.0.2 already installed\n",
      "pandas-datareader=0.9.0 already installed\n",
      "flask=1.1.2 already installed\n"
     ]
    }
   ],
   "source": [
    "%run \"../../../common/0_notebooks_base_setup.py\"    "
   ]
  },
  {
   "cell_type": "markdown",
   "metadata": {},
   "source": [
    "---\n",
    "\n",
    "<img src='../../../common/logo_DH.png' align='left' width=35%/>\n"
   ]
  },
  {
   "cell_type": "markdown",
   "metadata": {},
   "source": [
    "# Checkpoint Estadística Descriptiva"
   ]
  },
  {
   "cell_type": "markdown",
   "metadata": {},
   "source": [
    "Para esta práctica usaremos un subconjunto de los registros de un dataset de Kaggle que tiene datos oceanográficos https://www.kaggle.com/sohier/calcofi\n",
    "\n",
    "El conjunto de datos de CalCOFI representa la serie cronológica más larga (desde 1949 hasta el presente) y más completa (más de 50.000 estaciones de muestreo) de datos oceanográficos y de larvas de peces del mundo. \n",
    "\n",
    "Incluye datos sobre la abundancia de las larvas de más de 250 especies de peces; datos de frecuencia de tallas de larvas y datos de abundancia de huevos en especies comerciales clave; y datos oceanográficos y de plancton. \n",
    "\n",
    "Los datos físicos, químicos y biológicos recopilados a intervalos regulares de tiempo y espacio son valiosos para documentar los ciclos climáticos en la corriente de California y una variedad de respuestas biológicas a esos ciclos. \n",
    "\n",
    "La idea de esta práctica es analizar las variables numéricas de este dataset reducido (sólo cinco estaciones de muestreo) calculando medidas de tendencia central, de dispersión, y de asociación entre esas variables.\n"
   ]
  },
  {
   "cell_type": "markdown",
   "metadata": {},
   "source": [
    "## Ejercicio 1\n",
    "Leer los datos del archivo /M1/CLASE_04_EstadisticaDescriptiva/Data/bottle_reducido.csv\n",
    "\n",
    "Este archivo tiene algunos datos numéricos y otros de tipo cadena de caracteres. \n",
    "\n",
    "Cada uno del los registros del dataset representa una medición en una estación. Las variables medidas son profundidad, temperatura, saturación de oxígeno, nivel de salinidad.\n",
    "\n",
    "Las columnas son:\n",
    "\n",
    "* **Sta_ID**: cadena de caracteres, representa el id de la estación\n",
    "\n",
    "* **Depth_ID**: cadena de caracteres, representa el id de la medición\n",
    "\n",
    "* **Depthm**: numérico, representa la profundidad en metros \n",
    "\n",
    "* **T_degC**: numérico, representa la temperatura en grados centigrados\n",
    "\n",
    "* **O2Sat**: numérico, representa la saturación de oxígeno\n",
    "\n",
    "* **Salnty**: numérico, representa el nivel de salinidad\n",
    "\n",
    "¿Recuerdan que todos los elementos de una instancia de ndarray deben ser del mismo tipo? Entonces vamos a leer el archivo y crear una instancia de ndarray de tipo cadena de caracteres.\n",
    "\n",
    "¿Qué pasaría si intentáramos crear una instancia de tipo int? ¿Y de tipo float?\n"
   ]
  },
  {
   "cell_type": "code",
   "execution_count": 2,
   "metadata": {},
   "outputs": [],
   "source": [
    "import numpy as np\n",
    "\n",
    "# local:\n",
    "data_location = '../Data/bottle_reducido.csv'"
   ]
  },
  {
   "cell_type": "code",
   "execution_count": 19,
   "metadata": {},
   "outputs": [],
   "source": [
    "datos_crudos= np.genfromtxt(data_location,skip_header=1,dtype=str,delimiter='\\t')\n",
    "#aca las columnas de texto que identifican las estaciones y las mediciones\n",
    "id_estacion=datos_crudos[:,0]\n",
    "id_medicion=datos_crudos[:,1]\n",
    "\n",
    "#columnas numericas de medicion, transformadas en float\n",
    "profundidad_medicion=datos_crudos[:,2]\n",
    "profundidad_medicion=profundidad_medicion.astype(np.float)\n",
    "\n",
    "temperatura_medicion=datos_crudos[:,3]\n",
    "temperatura_medicion=temperatura_medicion.astype(np.float)\n",
    "\n",
    "saturacion_medicion=datos_crudos[:,4]\n",
    "saturacion_medicion=saturacion_medicion.astype(np.float)\n",
    "\n",
    "salinidad_medicion=datos_crudos[:,5]\n",
    "salinidad_medicion=salinidad_medicion.astype(np.float)"
   ]
  },
  {
   "cell_type": "markdown",
   "metadata": {},
   "source": [
    "## Ejercicio 2\n",
    "\n",
    "Sobre los datos de nivel de salinidad (columna Salnty) calcular:\n",
    "\n",
    "* media\n",
    "\n",
    "* mediana \n",
    "\n",
    "* desvio\n",
    "\n",
    "* rango\n"
   ]
  },
  {
   "cell_type": "code",
   "execution_count": 20,
   "metadata": {},
   "outputs": [],
   "source": [
    "salinity_column_index = 5\n",
    "salinity_vector = datos_crudos[:, salinity_column_index]\n",
    "salinity_vector_numeric = salinity_vector.astype(float)"
   ]
  },
  {
   "cell_type": "code",
   "execution_count": 15,
   "metadata": {},
   "outputs": [
    {
     "name": "stdout",
     "output_type": "stream",
     "text": [
      "la media de salinidad es: 33.601653746770026\n",
      "la mediana de salinidad es: 33.8485\n",
      "el desvio de salinidad es: 0.6562158205240991\n",
      "el rango de salinidad es: 2.3600000000000065\n"
     ]
    }
   ],
   "source": [
    "print(\"la media de salinidad es:\", np.mean(salinidad_medicion))\n",
    "print(\"la mediana de salinidad es:\", np.median(salinidad_medicion))\n",
    "print(\"el desvio de salinidad es:\", np.std(salinidad_medicion))\n",
    "print(\"el rango de salinidad es:\", np.max(salinidad_medicion)-np.min(salinidad_medicion))"
   ]
  },
  {
   "cell_type": "markdown",
   "metadata": {},
   "source": [
    "## Ejercicio 3\n",
    "\n",
    "Usando la función `distribution_plotter` graficar las distribuciones de las variables Depthm, T_degC, O2Sat, Salnty\n",
    "\n",
    "<code>\n",
    "\n",
    "import seaborn as sns\n",
    "\n",
    "def distribution_plotter(data, label, bin_width=100):    \n",
    "    sns.set(rc={\"figure.figsize\": (7, 5)})\n",
    "    sns.set_style(\"white\")    \n",
    "    dist = sns.histplot(data, stat = 'count', kde = False, \n",
    "                        line_kws = {'linewidth':5}, \n",
    "                        binwidth = bin_width)    \n",
    "    dist.set_title('Distribucion ' + label + '\\n', fontsize = 16)\n",
    "</code>\n",
    "\n",
    "\n",
    "Qué pueden decir de estas distribuciones?\n",
    "\n",
    "Pongan atención en la elección del parámetro `bin_width` para que el gráfico sea informativo.\n"
   ]
  },
  {
   "cell_type": "code",
   "execution_count": 16,
   "metadata": {},
   "outputs": [],
   "source": [
    "import seaborn as sns\n",
    "\n",
    "def distribution_plotter(data, label, bin_width=100):    \n",
    "    sns.set(rc={\"figure.figsize\": (7, 5)})\n",
    "    sns.set_style(\"white\")    \n",
    "    dist = sns.histplot(data, stat = 'count', kde = False, \n",
    "                        line_kws = {'linewidth':5}, \n",
    "                        binwidth = bin_width)    \n",
    "    dist.set_title('Distribucion ' + label + '\\n', fontsize = 16)"
   ]
  },
  {
   "cell_type": "code",
   "execution_count": 21,
   "metadata": {},
   "outputs": [],
   "source": [
    "depthm_column_index = 2\n",
    "tdegC_column_index = 3\n",
    "o2sat_column_index = 4\n",
    "\n",
    "depthm_vector_numeric = datos_crudos[:, depthm_column_index].astype(float)\n",
    "tdegC_vector_numeric = datos_crudos[:, tdegC_column_index].astype(float)\n",
    "o2sat_vector_numeric = datos_crudos[:, o2sat_column_index].astype(float)\n"
   ]
  },
  {
   "cell_type": "code",
   "execution_count": 23,
   "metadata": {},
   "outputs": [
    {
     "data": {
      "image/png": "[encoded data removed]",
      "text/plain": [
       "<Figure size 700x500 with 1 Axes>"
      ]
     },
     "metadata": {},
     "output_type": "display_data"
    }
   ],
   "source": [
    "distribution_plotter(depthm_vector_numeric,\"Profundidad\",50)"
   ]
  },
  {
   "cell_type": "code",
   "execution_count": 26,
   "metadata": {},
   "outputs": [
    {
     "data": {
      "image/png": "[encoded data removed]",
      "text/plain": [
       "<Figure size 700x500 with 1 Axes>"
      ]
     },
     "metadata": {},
     "output_type": "display_data"
    }
   ],
   "source": [
    "distribution_plotter(tdegC_vector_numeric,\"Profundidad\",0.5)"
   ]
  },
  {
   "cell_type": "code",
   "execution_count": 28,
   "metadata": {},
   "outputs": [
    {
     "data": {
      "image/png": "[encoded data removed]",
      "text/plain": [
       "<Figure size 700x500 with 1 Axes>"
      ]
     },
     "metadata": {},
     "output_type": "display_data"
    }
   ],
   "source": [
    "distribution_plotter(o2sat_vector_numeric,\"Profundidad\",2)"
   ]
  },
  {
   "cell_type": "code",
   "execution_count": null,
   "metadata": {},
   "outputs": [],
   "source": [
    "\n"
   ]
  },
  {
   "cell_type": "markdown",
   "metadata": {},
   "source": [
    "## Ejercicio 4\n",
    "\n",
    "Calcular las matrices de correlación y covarianza de las variables Depthm, T_degC, O2Sat, Salnty\n",
    "\n",
    "A partir de estos resultados, elegir sólo una de estas variables para intentar predecir el valor de salinidad:\n",
    "\n",
    "* ¿Usarían para esto la matriz de correlación o la de covarianzas? ¿Por qué?\n",
    "\n",
    "* ¿Qué variable elegirían? Justificar la decisión.\n",
    "\n"
   ]
  },
  {
   "cell_type": "code",
   "execution_count": 30,
   "metadata": {},
   "outputs": [
    {
     "data": {
      "text/plain": [
       "array([[ 1.22730122e+05, -1.11538543e+03, -1.10802454e+04,\n",
       "         1.92117557e+02],\n",
       "       [-1.11538543e+03,  1.54435978e+01,  1.32676236e+02,\n",
       "        -2.36152167e+00],\n",
       "       [-1.10802454e+04,  1.32676236e+02,  1.42106646e+03,\n",
       "        -2.40228614e+01],\n",
       "       [ 1.92117557e+02, -2.36152167e+00, -2.40228614e+01,\n",
       "         4.31176278e-01]])"
      ]
     },
     "execution_count": 30,
     "metadata": {},
     "output_type": "execute_result"
    }
   ],
   "source": [
    "variables_colums_index = range(2,6)\n",
    "\n",
    "X = datos_crudos[:, variables_colums_index].astype(float)\n",
    "\n",
    "X\n",
    "\n",
    "np.cov([X[:,0],X[:,1],X[:,2],X[:,3]])"
   ]
  },
  {
   "cell_type": "code",
   "execution_count": 31,
   "metadata": {},
   "outputs": [
    {
     "data": {
      "text/plain": [
       "array([[ 1.        , -0.81016811, -0.83900896,  0.83514915],\n",
       "       [-0.81016811,  1.        ,  0.8955951 , -0.91514575],\n",
       "       [-0.83900896,  0.8955951 ,  1.        , -0.97048787],\n",
       "       [ 0.83514915, -0.91514575, -0.97048787,  1.        ]])"
      ]
     },
     "execution_count": 31,
     "metadata": {},
     "output_type": "execute_result"
    }
   ],
   "source": [
    "np.corrcoef([X[:,0],X[:,1],X[:,2],X[:,3]])"
   ]
  },
  {
   "cell_type": "code",
   "execution_count": null,
   "metadata": {},
   "outputs": [],
   "source": []
  },
  {
   "cell_type": "code",
   "execution_count": null,
   "metadata": {},
   "outputs": [],
   "source": []
  },
  {
   "cell_type": "code",
   "execution_count": null,
   "metadata": {},
   "outputs": [],
   "source": []
  },
  {
   "cell_type": "code",
   "execution_count": null,
   "metadata": {},
   "outputs": [],
   "source": []
  },
  {
   "cell_type": "code",
   "execution_count": null,
   "metadata": {},
   "outputs": [],
   "source": []
  }
 ],
 "metadata": {
  "kernelspec": {
   "display_name": "Python 3.8.13 ('dhdsblend2021')",
   "language": "python",
   "name": "python3"
  },
  "language_info": {
   "codemirror_mode": {
    "name": "ipython",
    "version": 3
   },
   "file_extension": ".py",
   "mimetype": "text/x-python",
   "name": "python",
   "nbconvert_exporter": "python",
   "pygments_lexer": "ipython3",
   "version": "3.8.13"
  },
  "vscode": {
   "interpreter": {
    "hash": "b43af2114f43bcf982d0b53b081e4c6c708721cc588721c6f40c2d9852c4cd7b"
   }
  }
 },
 "nbformat": 4,
 "nbformat_minor": 4
}
