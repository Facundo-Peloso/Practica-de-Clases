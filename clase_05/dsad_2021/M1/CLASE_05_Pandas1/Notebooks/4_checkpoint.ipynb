{
 "cells": [
  {
   "cell_type": "code",
   "execution_count": 4,
   "metadata": {},
   "outputs": [
    {
     "name": "stdout",
     "output_type": "stream",
     "text": [
      "/media/paulati/Nuevo vol/paula/dh/2021/dsad_2021_paula/common\n",
      "default checking\n",
      "Running command `conda list`... ok\n",
      "jupyterlab=2.2.6 already installed\n",
      "pandas=1.1.5 already installed\n",
      "bokeh=2.2.3 already installed\n",
      "seaborn=0.11.0 already installed\n",
      "matplotlib=3.3.2 already installed\n",
      "ipywidgets=7.5.1 already installed\n",
      "pytest=6.2.1 already installed\n",
      "chardet=4.0.0 already installed\n",
      "psutil=5.7.2 already installed\n",
      "scipy=1.5.2 already installed\n",
      "statsmodels=0.12.1 already installed\n",
      "scikit-learn=0.23.2 already installed\n",
      "xlrd=2.0.1 already installed\n",
      "Running command `conda install --yes nltk=3.5.0`... ok\n",
      "Collecting package metadata (current_repodata.json): ...working... done\n",
      "Solving environment: ...working... done\n",
      "\n",
      "# All requested packages already installed.\n",
      "\n",
      "\n",
      "unidecode=1.1.1 already installed\n",
      "pydotplus=2.0.2 already installed\n",
      "pandas-datareader=0.9.0 already installed\n",
      "flask=1.1.2 already installed\n"
     ]
    }
   ],
   "source": [
    "%run \"../../../common/0_notebooks_base_setup.py\""
   ]
  },
  {
   "cell_type": "markdown",
   "metadata": {},
   "source": [
    "---\n",
    "\n",
    "<img src='../../../common/logo_DH.png' align='left' width=35%/>\n"
   ]
  },
  {
   "cell_type": "markdown",
   "metadata": {},
   "source": [
    "## Documentación pandas\n",
    "\n",
    "https://pandas.pydata.org/pandas-docs/stable/index.html\n",
    "\n",
    " "
   ]
  },
  {
   "cell_type": "markdown",
   "metadata": {},
   "source": [
    "## Dataset\n",
    "\n",
    "El dataset que usaremos es una versión muy resumida de datos de la Encuesta Permanentes de Hogares (relevamiento llevado adelante por el INDEC). Se trata de una encuesta continua que tiene como objetivo fundamental generar información sobre el funcionamiento del mercado de trabajo.\n",
    "\n",
    "Solamente utilizaremos algunas variables (edad, nivel educativo, cantidad de horas trabajadas, calificación de la tarea e ingreso laboral) y algunos casos (los ocupados, es decir, aquellos que han trabajado al menos una hora en la semana anterior al relevamiento).\n",
    "\n",
    "Este dataset es el mismo que emplearemos en la clase presencial, y en estos ejercicios buscamos  familiarizarnos con él y revisar algunos temas.\n"
   ]
  },
  {
   "cell_type": "markdown",
   "metadata": {},
   "source": []
  },
  {
   "cell_type": "markdown",
   "metadata": {},
   "source": [
    "Importamos la biblioteca pandas y asignamos pd como alias:"
   ]
  },
  {
   "cell_type": "code",
   "execution_count": 1,
   "metadata": {},
   "outputs": [],
   "source": [
    "import pandas as pd"
   ]
  },
  {
   "cell_type": "markdown",
   "metadata": {},
   "source": [
    "## Ejercicio 1\n",
    "\n",
    "Busquemos en la documentación de pandas la sintaxis del método `read_csv` y leamos en un `DataFrame` llamado data los datos del archivo /M1/CLASE_04/Data/data_filt.csv \n",
    "\n",
    "Este archivo tiene algunos datos numéricos y otros de tipo cadena de caracteres. \n",
    "\n",
    "Las columnas son:\n",
    "\n",
    "* ch06: int, edad\n",
    "\n",
    "* nivel_ed: string, nivel educativo\n",
    "\n",
    "* htot: int, cantidad de horas totales trabajadas en el período\n",
    "\n",
    "* calif: string, calificación de la tarea\n",
    "\n",
    "* p47t: int, ingreso\n",
    "\n"
   ]
  },
  {
   "cell_type": "code",
   "execution_count": 2,
   "metadata": {},
   "outputs": [
    {
     "data": {
      "text/html": [
       "<div>\n",
       "<style scoped>\n",
       "    .dataframe tbody tr th:only-of-type {\n",
       "        vertical-align: middle;\n",
       "    }\n",
       "\n",
       "    .dataframe tbody tr th {\n",
       "        vertical-align: top;\n",
       "    }\n",
       "\n",
       "    .dataframe thead th {\n",
       "        text-align: right;\n",
       "    }\n",
       "</style>\n",
       "<table border=\"1\" class=\"dataframe\">\n",
       "  <thead>\n",
       "    <tr style=\"text-align: right;\">\n",
       "      <th></th>\n",
       "      <th>ch06</th>\n",
       "      <th>nivel_ed</th>\n",
       "      <th>htot</th>\n",
       "      <th>calif</th>\n",
       "      <th>p47t</th>\n",
       "    </tr>\n",
       "  </thead>\n",
       "  <tbody>\n",
       "    <tr>\n",
       "      <th>0</th>\n",
       "      <td>46</td>\n",
       "      <td>1_H/Sec inc</td>\n",
       "      <td>45</td>\n",
       "      <td>2_Op./No calif.</td>\n",
       "      <td>6000.0</td>\n",
       "    </tr>\n",
       "    <tr>\n",
       "      <th>1</th>\n",
       "      <td>26</td>\n",
       "      <td>2_Sec. comp y más</td>\n",
       "      <td>25</td>\n",
       "      <td>2_Op./No calif.</td>\n",
       "      <td>5000.0</td>\n",
       "    </tr>\n",
       "    <tr>\n",
       "      <th>2</th>\n",
       "      <td>47</td>\n",
       "      <td>2_Sec. comp y más</td>\n",
       "      <td>25</td>\n",
       "      <td>2_Op./No calif.</td>\n",
       "      <td>5000.0</td>\n",
       "    </tr>\n",
       "    <tr>\n",
       "      <th>3</th>\n",
       "      <td>52</td>\n",
       "      <td>1_H/Sec inc</td>\n",
       "      <td>90</td>\n",
       "      <td>2_Op./No calif.</td>\n",
       "      <td>11000.0</td>\n",
       "    </tr>\n",
       "    <tr>\n",
       "      <th>4</th>\n",
       "      <td>45</td>\n",
       "      <td>1_H/Sec inc</td>\n",
       "      <td>44</td>\n",
       "      <td>2_Op./No calif.</td>\n",
       "      <td>9500.0</td>\n",
       "    </tr>\n",
       "    <tr>\n",
       "      <th>...</th>\n",
       "      <td>...</td>\n",
       "      <td>...</td>\n",
       "      <td>...</td>\n",
       "      <td>...</td>\n",
       "      <td>...</td>\n",
       "    </tr>\n",
       "    <tr>\n",
       "      <th>23443</th>\n",
       "      <td>45</td>\n",
       "      <td>2_Sec. comp y más</td>\n",
       "      <td>50</td>\n",
       "      <td>2_Op./No calif.</td>\n",
       "      <td>4000.0</td>\n",
       "    </tr>\n",
       "    <tr>\n",
       "      <th>23444</th>\n",
       "      <td>58</td>\n",
       "      <td>1_H/Sec inc</td>\n",
       "      <td>30</td>\n",
       "      <td>2_Op./No calif.</td>\n",
       "      <td>5000.0</td>\n",
       "    </tr>\n",
       "    <tr>\n",
       "      <th>23445</th>\n",
       "      <td>36</td>\n",
       "      <td>2_Sec. comp y más</td>\n",
       "      <td>40</td>\n",
       "      <td>2_Op./No calif.</td>\n",
       "      <td>13000.0</td>\n",
       "    </tr>\n",
       "    <tr>\n",
       "      <th>23446</th>\n",
       "      <td>49</td>\n",
       "      <td>1_H/Sec inc</td>\n",
       "      <td>40</td>\n",
       "      <td>2_Op./No calif.</td>\n",
       "      <td>4000.0</td>\n",
       "    </tr>\n",
       "    <tr>\n",
       "      <th>23447</th>\n",
       "      <td>36</td>\n",
       "      <td>1_H/Sec inc</td>\n",
       "      <td>54</td>\n",
       "      <td>2_Op./No calif.</td>\n",
       "      <td>8000.0</td>\n",
       "    </tr>\n",
       "  </tbody>\n",
       "</table>\n",
       "<p>23448 rows × 5 columns</p>\n",
       "</div>"
      ],
      "text/plain": [
       "       ch06           nivel_ed  htot            calif     p47t\n",
       "0        46        1_H/Sec inc    45  2_Op./No calif.   6000.0\n",
       "1        26  2_Sec. comp y más    25  2_Op./No calif.   5000.0\n",
       "2        47  2_Sec. comp y más    25  2_Op./No calif.   5000.0\n",
       "3        52        1_H/Sec inc    90  2_Op./No calif.  11000.0\n",
       "4        45        1_H/Sec inc    44  2_Op./No calif.   9500.0\n",
       "...     ...                ...   ...              ...      ...\n",
       "23443    45  2_Sec. comp y más    50  2_Op./No calif.   4000.0\n",
       "23444    58        1_H/Sec inc    30  2_Op./No calif.   5000.0\n",
       "23445    36  2_Sec. comp y más    40  2_Op./No calif.  13000.0\n",
       "23446    49        1_H/Sec inc    40  2_Op./No calif.   4000.0\n",
       "23447    36        1_H/Sec inc    54  2_Op./No calif.   8000.0\n",
       "\n",
       "[23448 rows x 5 columns]"
      ]
     },
     "execution_count": 2,
     "metadata": {},
     "output_type": "execute_result"
    }
   ],
   "source": [
    "#Primero establezco la direccion del archivo\n",
    "\n",
    "file_location='../Data/data_filt.csv'\n",
    "data= pd.read_csv(file_location, delimiter=',' , encoding='latin1')\n",
    "\n",
    "data"
   ]
  },
  {
   "cell_type": "markdown",
   "metadata": {},
   "source": [
    "## Ejercicio 2\n",
    "\n",
    "Repasemos el concepto de índice y columnas de un `DataFrame`\n",
    "\n",
    "Accedamos al índice (nombres de las filas) del `DataFrame` data\n",
    "\n",
    "Accedamos a los nombres de columnas del `DataFrame` data\n"
   ]
  },
  {
   "cell_type": "code",
   "execution_count": 3,
   "metadata": {},
   "outputs": [
    {
     "data": {
      "text/plain": [
       "RangeIndex(start=0, stop=23448, step=1)"
      ]
     },
     "execution_count": 3,
     "metadata": {},
     "output_type": "execute_result"
    }
   ],
   "source": [
    "\n",
    "data.index\n",
    "\n"
   ]
  },
  {
   "cell_type": "code",
   "execution_count": 4,
   "metadata": {},
   "outputs": [
    {
     "data": {
      "text/plain": [
       "Index(['ch06', 'nivel_ed', 'htot', 'calif', 'p47t'], dtype='object')"
      ]
     },
     "execution_count": 4,
     "metadata": {},
     "output_type": "execute_result"
    }
   ],
   "source": [
    "data.columns"
   ]
  },
  {
   "cell_type": "markdown",
   "metadata": {},
   "source": [
    "Vamos a modificar ahora el índice de data, así el valor del índice no coincide con la posición y podemos notar diferencias en los ejercicios que siguen."
   ]
  },
  {
   "cell_type": "code",
   "execution_count": 5,
   "metadata": {},
   "outputs": [
    {
     "name": "stdout",
     "output_type": "stream",
     "text": [
      "RangeIndex(start=7, stop=23455, step=1)\n"
     ]
    },
    {
     "data": {
      "text/html": [
       "<div>\n",
       "<style scoped>\n",
       "    .dataframe tbody tr th:only-of-type {\n",
       "        vertical-align: middle;\n",
       "    }\n",
       "\n",
       "    .dataframe tbody tr th {\n",
       "        vertical-align: top;\n",
       "    }\n",
       "\n",
       "    .dataframe thead th {\n",
       "        text-align: right;\n",
       "    }\n",
       "</style>\n",
       "<table border=\"1\" class=\"dataframe\">\n",
       "  <thead>\n",
       "    <tr style=\"text-align: right;\">\n",
       "      <th></th>\n",
       "      <th>ch06</th>\n",
       "      <th>nivel_ed</th>\n",
       "      <th>htot</th>\n",
       "      <th>calif</th>\n",
       "      <th>p47t</th>\n",
       "    </tr>\n",
       "  </thead>\n",
       "  <tbody>\n",
       "    <tr>\n",
       "      <th>7</th>\n",
       "      <td>46</td>\n",
       "      <td>1_H/Sec inc</td>\n",
       "      <td>45</td>\n",
       "      <td>2_Op./No calif.</td>\n",
       "      <td>6000.0</td>\n",
       "    </tr>\n",
       "    <tr>\n",
       "      <th>8</th>\n",
       "      <td>26</td>\n",
       "      <td>2_Sec. comp y más</td>\n",
       "      <td>25</td>\n",
       "      <td>2_Op./No calif.</td>\n",
       "      <td>5000.0</td>\n",
       "    </tr>\n",
       "    <tr>\n",
       "      <th>9</th>\n",
       "      <td>47</td>\n",
       "      <td>2_Sec. comp y más</td>\n",
       "      <td>25</td>\n",
       "      <td>2_Op./No calif.</td>\n",
       "      <td>5000.0</td>\n",
       "    </tr>\n",
       "    <tr>\n",
       "      <th>10</th>\n",
       "      <td>52</td>\n",
       "      <td>1_H/Sec inc</td>\n",
       "      <td>90</td>\n",
       "      <td>2_Op./No calif.</td>\n",
       "      <td>11000.0</td>\n",
       "    </tr>\n",
       "    <tr>\n",
       "      <th>11</th>\n",
       "      <td>45</td>\n",
       "      <td>1_H/Sec inc</td>\n",
       "      <td>44</td>\n",
       "      <td>2_Op./No calif.</td>\n",
       "      <td>9500.0</td>\n",
       "    </tr>\n",
       "  </tbody>\n",
       "</table>\n",
       "</div>"
      ],
      "text/plain": [
       "    ch06           nivel_ed  htot            calif     p47t\n",
       "7     46        1_H/Sec inc    45  2_Op./No calif.   6000.0\n",
       "8     26  2_Sec. comp y más    25  2_Op./No calif.   5000.0\n",
       "9     47  2_Sec. comp y más    25  2_Op./No calif.   5000.0\n",
       "10    52        1_H/Sec inc    90  2_Op./No calif.  11000.0\n",
       "11    45        1_H/Sec inc    44  2_Op./No calif.   9500.0"
      ]
     },
     "execution_count": 5,
     "metadata": {},
     "output_type": "execute_result"
    }
   ],
   "source": [
    "data.index = data.index + 7\n",
    "print(data.index)\n",
    "data.head(5)"
   ]
  },
  {
   "cell_type": "markdown",
   "metadata": {},
   "source": [
    "## Ejercicio 3\n",
    "\n",
    "Repasemos el uso de `loc` e `iloc`\n",
    "\n",
    "* `loc` nos permite acceder a un elemento por su índice\n",
    "\n",
    "* `iloc` nos permite acceder a un elemento por su posición\n",
    "\n",
    "Leamos con `loc` y con `iloc` la cuarta fila de data\n",
    "\n",
    "¿Cómo accedemos al valor del índice en la cuarta fila?"
   ]
  },
  {
   "cell_type": "code",
   "execution_count": 6,
   "metadata": {},
   "outputs": [
    {
     "data": {
      "text/plain": [
       "ch06                     52\n",
       "nivel_ed        1_H/Sec inc\n",
       "htot                     90\n",
       "calif       2_Op./No calif.\n",
       "p47t                  11000\n",
       "Name: 10, dtype: object"
      ]
     },
     "metadata": {},
     "output_type": "display_data"
    },
    {
     "data": {
      "text/plain": [
       "ch06                     52\n",
       "nivel_ed        1_H/Sec inc\n",
       "htot                     90\n",
       "calif       2_Op./No calif.\n",
       "p47t                  11000\n",
       "Name: 10, dtype: object"
      ]
     },
     "metadata": {},
     "output_type": "display_data"
    }
   ],
   "source": [
    "display(data.loc[10])\n",
    "\n",
    "display(data.iloc[3,:])"
   ]
  },
  {
   "cell_type": "markdown",
   "metadata": {},
   "source": [
    "## Ejercicio 4\n",
    "\n",
    "Repasemos el uso de `loc` combinado con máscaras booleanas.\n",
    "\n",
    "Queremos construir un objeto `DataFrame` con los registros de edad menor a 15 o mayor igual a 70.\n"
   ]
  },
  {
   "cell_type": "code",
   "execution_count": 7,
   "metadata": {},
   "outputs": [
    {
     "data": {
      "text/html": [
       "<div>\n",
       "<style scoped>\n",
       "    .dataframe tbody tr th:only-of-type {\n",
       "        vertical-align: middle;\n",
       "    }\n",
       "\n",
       "    .dataframe tbody tr th {\n",
       "        vertical-align: top;\n",
       "    }\n",
       "\n",
       "    .dataframe thead th {\n",
       "        text-align: right;\n",
       "    }\n",
       "</style>\n",
       "<table border=\"1\" class=\"dataframe\">\n",
       "  <thead>\n",
       "    <tr style=\"text-align: right;\">\n",
       "      <th></th>\n",
       "      <th>ch06</th>\n",
       "      <th>nivel_ed</th>\n",
       "      <th>htot</th>\n",
       "      <th>calif</th>\n",
       "      <th>p47t</th>\n",
       "    </tr>\n",
       "  </thead>\n",
       "  <tbody>\n",
       "    <tr>\n",
       "      <th>17</th>\n",
       "      <td>72</td>\n",
       "      <td>1_H/Sec inc</td>\n",
       "      <td>15</td>\n",
       "      <td>1_Prof./Tecn.</td>\n",
       "      <td>8300.0</td>\n",
       "    </tr>\n",
       "    <tr>\n",
       "      <th>251</th>\n",
       "      <td>71</td>\n",
       "      <td>2_Sec. comp y más</td>\n",
       "      <td>8</td>\n",
       "      <td>1_Prof./Tecn.</td>\n",
       "      <td>7102.0</td>\n",
       "    </tr>\n",
       "    <tr>\n",
       "      <th>416</th>\n",
       "      <td>71</td>\n",
       "      <td>1_H/Sec inc</td>\n",
       "      <td>63</td>\n",
       "      <td>2_Op./No calif.</td>\n",
       "      <td>11800.0</td>\n",
       "    </tr>\n",
       "  </tbody>\n",
       "</table>\n",
       "</div>"
      ],
      "text/plain": [
       "     ch06           nivel_ed  htot            calif     p47t\n",
       "17     72        1_H/Sec inc    15    1_Prof./Tecn.   8300.0\n",
       "251    71  2_Sec. comp y más     8    1_Prof./Tecn.   7102.0\n",
       "416    71        1_H/Sec inc    63  2_Op./No calif.  11800.0"
      ]
     },
     "execution_count": 7,
     "metadata": {},
     "output_type": "execute_result"
    }
   ],
   "source": [
    "mask_jr= data.ch06<15 \n",
    "\n",
    "mask_sr = data.ch06>=70\n",
    "\n",
    "mask_final= mask_jr | mask_sr\n",
    "\n",
    "data_filtrada=data.loc[mask_final,:]\n",
    "data_filtrada.head(3)"
   ]
  },
  {
   "cell_type": "markdown",
   "metadata": {},
   "source": [
    "## Ejercicio 5\n",
    "\n",
    "Calculemos algunas métricas sobre un objeto `DataFrame`\n",
    "\n",
    "* Promedio de edad\n",
    "\n",
    "* Máximo de horas trabajadas\n",
    "\n",
    "* Mediana de ingreso"
   ]
  },
  {
   "cell_type": "code",
   "execution_count": 43,
   "metadata": {},
   "outputs": [
    {
     "data": {
      "text/plain": [
       "40.455689184578645"
      ]
     },
     "execution_count": 43,
     "metadata": {},
     "output_type": "execute_result"
    }
   ],
   "source": [
    "#promedio de edad \n",
    "data['ch06'].mean()"
   ]
  },
  {
   "cell_type": "code",
   "execution_count": 44,
   "metadata": {},
   "outputs": [
    {
     "data": {
      "text/plain": [
       "168"
      ]
     },
     "execution_count": 44,
     "metadata": {},
     "output_type": "execute_result"
    }
   ],
   "source": [
    "data['htot'].max()"
   ]
  },
  {
   "cell_type": "code",
   "execution_count": 45,
   "metadata": {},
   "outputs": [
    {
     "data": {
      "text/plain": [
       "7000.0"
      ]
     },
     "execution_count": 45,
     "metadata": {},
     "output_type": "execute_result"
    }
   ],
   "source": [
    "data['p47t'].median()"
   ]
  }
 ],
 "metadata": {
  "kernelspec": {
   "display_name": "Python 3.8.13 ('dhdsblend2021')",
   "language": "python",
   "name": "python3"
  },
  "language_info": {
   "codemirror_mode": {
    "name": "ipython",
    "version": 3
   },
   "file_extension": ".py",
   "mimetype": "text/x-python",
   "name": "python",
   "nbconvert_exporter": "python",
   "pygments_lexer": "ipython3",
   "version": "3.8.13"
  },
  "vscode": {
   "interpreter": {
    "hash": "b43af2114f43bcf982d0b53b081e4c6c708721cc588721c6f40c2d9852c4cd7b"
   }
  }
 },
 "nbformat": 4,
 "nbformat_minor": 4
}
