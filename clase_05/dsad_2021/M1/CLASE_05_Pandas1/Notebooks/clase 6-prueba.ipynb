{
 "cells": [
  {
   "cell_type": "code",
   "execution_count": 2,
   "metadata": {},
   "outputs": [
    {
     "data": {
      "text/plain": [
       "164.94947983319796"
      ]
     },
     "execution_count": 2,
     "metadata": {},
     "output_type": "execute_result"
    }
   ],
   "source": [
    "import random \n",
    "\n",
    "random.seed(21)\n",
    "random.random()*1000\n",
    "\n"
   ]
  },
  {
   "cell_type": "code",
   "execution_count": 3,
   "metadata": {},
   "outputs": [
    {
     "name": "stdout",
     "output_type": "stream",
     "text": [
      "opcion1\n"
     ]
    }
   ],
   "source": [
    "#bernoulli\n",
    "\n",
    "opciones = ['opcion1', 'opcion2']\n",
    "\n",
    "#quiero que el 70% de las veces me de opcion 1\n",
    "\n",
    "if random.random() <0.7:\n",
    "    print(opciones[0])\n",
    "else:\n",
    "    print(opciones[1])"
   ]
  },
  {
   "cell_type": "code",
   "execution_count": 12,
   "metadata": {},
   "outputs": [
    {
     "data": {
      "text/plain": [
       "4"
      ]
     },
     "execution_count": 12,
     "metadata": {},
     "output_type": "execute_result"
    }
   ],
   "source": [
    "#binomial \n",
    "\n",
    "import numpy as np\n",
    "\n",
    "def contar_n_muestras(tamanio_muestra, opciones=['par','impar'], buscado='par'):\n",
    "    resultado = np.random.choice(opciones, tamanio_muestra)\n",
    "    #print(resultado)\n",
    "    coincidencias= resultado==buscado\n",
    "    return coincidencias.sum()\n",
    "\n",
    "\n",
    "contar_n_muestras(10)"
   ]
  },
  {
   "cell_type": "code",
   "execution_count": 13,
   "metadata": {},
   "outputs": [
    {
     "data": {
      "text/plain": [
       "[7, 5, 5, 4, 5]"
      ]
     },
     "execution_count": 13,
     "metadata": {},
     "output_type": "execute_result"
    }
   ],
   "source": [
    "def hacer_n_experimentos(numero_experimentos, tamanio_muestra):\n",
    "    resultado=[]\n",
    "    for i in range(numero_experimentos):\n",
    "        experimento= contar_n_muestras(tamanio_muestra)\n",
    "        resultado.append(experimento)\n",
    "    return resultado\n",
    "\n",
    "hacer_n_experimentos(5, 10)"
   ]
  },
  {
   "cell_type": "code",
   "execution_count": 14,
   "metadata": {},
   "outputs": [],
   "source": [
    "exp = hacer_n_experimentos(10000,4)"
   ]
  },
  {
   "cell_type": "code",
   "execution_count": 15,
   "metadata": {},
   "outputs": [
    {
     "name": "stdout",
     "output_type": "stream",
     "text": [
      "[0 1 2 3 4] [ 605 2520 3719 2543  613]\n"
     ]
    }
   ],
   "source": [
    "unique, count = np.unique(exp,return_counts=True)\n",
    "\n",
    "print(unique, count)"
   ]
  },
  {
   "cell_type": "code",
   "execution_count": 16,
   "metadata": {},
   "outputs": [
    {
     "name": "stderr",
     "output_type": "stream",
     "text": [
      "c:\\Users\\fpeloso\\Anaconda3\\envs\\dhdsblend2021\\lib\\site-packages\\seaborn\\_decorators.py:36: FutureWarning: Pass the following variables as keyword args: x, y. From version 0.12, the only valid positional argument will be `data`, and passing other arguments without an explicit keyword will result in an error or misinterpretation.\n",
      "  warnings.warn(\n"
     ]
    },
    {
     "data": {
      "text/plain": [
       "<AxesSubplot:>"
      ]
     },
     "execution_count": 16,
     "metadata": {},
     "output_type": "execute_result"
    },
    {
     "data": {
      "image/png": "[encoded data removed]",
      "text/plain": [
       "<Figure size 640x480 with 1 Axes>"
      ]
     },
     "metadata": {},
     "output_type": "display_data"
    }
   ],
   "source": [
    "import seaborn as sn\n",
    "\n",
    "sn.barplot(unique,count/count.sum())"
   ]
  },
  {
   "cell_type": "code",
   "execution_count": 42,
   "metadata": {},
   "outputs": [],
   "source": [
    "largos = [15.2, 14.8, 13.7, 14.7, 13.8, 14.5, 14.4, 14.5, 14.7, 14.35, 14.57, 17.3, 14.7, 16.58, 14, 13.7, 13.6, 13.7, 14.6, 13.9, 15.6, 14.9, 17.1, 14.4, 14.4, 14.3, 14.6, 14.2]\n"
   ]
  },
  {
   "cell_type": "code",
   "execution_count": 43,
   "metadata": {},
   "outputs": [
    {
     "data": {
      "text/plain": [
       "14.671428571428573"
      ]
     },
     "execution_count": 43,
     "metadata": {},
     "output_type": "execute_result"
    }
   ],
   "source": [
    "np.mean(largos)"
   ]
  }
 ],
 "metadata": {
  "kernelspec": {
   "display_name": "Python 3.8.13 ('dhdsblend2021')",
   "language": "python",
   "name": "python3"
  },
  "language_info": {
   "codemirror_mode": {
    "name": "ipython",
    "version": 3
   },
   "file_extension": ".py",
   "mimetype": "text/x-python",
   "name": "python",
   "nbconvert_exporter": "python",
   "pygments_lexer": "ipython3",
   "version": "3.8.13"
  },
  "orig_nbformat": 4,
  "vscode": {
   "interpreter": {
    "hash": "b43af2114f43bcf982d0b53b081e4c6c708721cc588721c6f40c2d9852c4cd7b"
   }
  }
 },
 "nbformat": 4,
 "nbformat_minor": 2
}
