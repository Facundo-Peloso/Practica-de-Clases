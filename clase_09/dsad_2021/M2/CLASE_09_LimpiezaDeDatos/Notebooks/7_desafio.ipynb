{
 "cells": [
  {
   "cell_type": "code",
   "execution_count": null,
   "metadata": {},
   "outputs": [],
   "source": [
    "# initial setup\n",
    "%run \"../../../common/0_notebooks_base_setup.py\"\n"
   ]
  },
  {
   "cell_type": "markdown",
   "metadata": {},
   "source": [
    "---\n",
    "\n",
    "<img src='../../../common/logo_DH.png' align='left' width=35%/>\n"
   ]
  },
  {
   "cell_type": "markdown",
   "metadata": {},
   "source": [
    "# Limpieza de datos. Apply. Expresiones regulares."
   ]
  },
  {
   "cell_type": "markdown",
   "metadata": {},
   "source": [
    "La limpieza es un paso necesario en todo proyecto de datos. \n",
    "\n",
    "Podemos resumir el proceso de limpieza de datos en las siguientes cinco tareas:\n",
    "\n",
    "**1. Resolver problemas de formato y asignar tipos de datos correctos.**\n",
    "\n",
    "Por ejemplo, cuando al pasar de CSV a Pandas una fecha no se importa correctamente como puede ser el caso de un campo fecha donde se importa 20090609231247 en lugar de 2009-06-09 23:12:47.\n",
    "\n",
    "El formato en que se encuentran los datos determina qué operaciones pueden realizarse sobre ellos.\n",
    "\n",
    "**2. Estandarizar categorías.**\n",
    "\n",
    "Cuando los datos se recolectaron con un sisstema que no tiene valores tipificadaos, valores que representan la misma categoría pueden estar expresados de forma distinta. Por ejemplo: Arg, AR, Argentina\n",
    "\n",
    "**3. Corregir valores erróneos.**\n",
    "\n",
    "Por ejemplo: un valor numérico o inválido para describir el género; o una edad representada por un número negativo o mucho mayor que 100.\n",
    "\n",
    "**4. Completar datos faltantes.**\n",
    "\n",
    "Los datasets del mundo real suelen venir con datos faltantes que responden a información que se perdió o nunca se recolectó. Existen varias técnicas para completar datos faltantes. Al proceso de completar datos faltantes se lo llama \"imputación\".\n",
    "\n",
    "**5. Organizar el dataset.**\n",
    "\n",
    "Es importante estructurar las filas y columnas de la forma más conveniente. Para hacerlo se pueden aplicar las reglas del \"tidy data\".\n"
   ]
  },
  {
   "cell_type": "markdown",
   "metadata": {},
   "source": [
    "\n",
    "## Dataset\n",
    "\n",
    "El Met (Metropolitan Museum of Art) provee datasets de información de más de 420.000 piezas de arte en su colección.\n",
    "\n",
    "https://github.com/metmuseum/openaccess/\n",
    "\n",
    "Los problemas que presentan este dataset incluyen:\n",
    "* Valores faltantes\n",
    "* Posibles duplicaciones\n",
    "* Campos con mezcla de campos de tipo numérico con cadenas de caracteres\n",
    "\n",
    "En esta clase vamos a detectar algunos de los qué campos presentan problemas, y solucionarlos usando las herramientas que adquirimos en las prácticas guiadas.\n"
   ]
  },
  {
   "cell_type": "markdown",
   "metadata": {},
   "source": [
    "## Ejercicio 1:\n",
    "\n",
    "Vamos a leer en la variable `data` los datos del archivo /M2/CLASE_05_Limpieza_de_datos/Data/MetObjects_sample.csv en un `DataFrame` de pandas con el método `read_csv` \n",
    "\n",
    "Veamos cuántas filas y columnas tiene el DataFrame data"
   ]
  },
  {
   "cell_type": "code",
   "execution_count": 1,
   "metadata": {},
   "outputs": [],
   "source": [
    "import pandas as pd"
   ]
  },
  {
   "cell_type": "code",
   "execution_count": 4,
   "metadata": {},
   "outputs": [
    {
     "name": "stdout",
     "output_type": "stream",
     "text": [
      "(4743, 52)\n"
     ]
    },
    {
     "data": {
      "text/html": [
       "<div>\n",
       "<style scoped>\n",
       "    .dataframe tbody tr th:only-of-type {\n",
       "        vertical-align: middle;\n",
       "    }\n",
       "\n",
       "    .dataframe tbody tr th {\n",
       "        vertical-align: top;\n",
       "    }\n",
       "\n",
       "    .dataframe thead th {\n",
       "        text-align: right;\n",
       "    }\n",
       "</style>\n",
       "<table border=\"1\" class=\"dataframe\">\n",
       "  <thead>\n",
       "    <tr style=\"text-align: right;\">\n",
       "      <th></th>\n",
       "      <th>Unnamed: 0</th>\n",
       "      <th>Object Number</th>\n",
       "      <th>Is Highlight</th>\n",
       "      <th>Is Public Domain</th>\n",
       "      <th>Is Timeline Work</th>\n",
       "      <th>Object ID</th>\n",
       "      <th>Department</th>\n",
       "      <th>AccessionYear</th>\n",
       "      <th>Object Name</th>\n",
       "      <th>Title</th>\n",
       "      <th>...</th>\n",
       "      <th>Excavation</th>\n",
       "      <th>River</th>\n",
       "      <th>Classification</th>\n",
       "      <th>Rights and Reproduction</th>\n",
       "      <th>Link Resource</th>\n",
       "      <th>Object Wikidata URL</th>\n",
       "      <th>Metadata Date</th>\n",
       "      <th>Repository</th>\n",
       "      <th>Tags</th>\n",
       "      <th>Tags AAT URL</th>\n",
       "    </tr>\n",
       "  </thead>\n",
       "  <tbody>\n",
       "    <tr>\n",
       "      <th>0</th>\n",
       "      <td>297513</td>\n",
       "      <td>Inst.1980.3.1</td>\n",
       "      <td>False</td>\n",
       "      <td>False</td>\n",
       "      <td>False</td>\n",
       "      <td>442985</td>\n",
       "      <td>Islamic Art</td>\n",
       "      <td>NaN</td>\n",
       "      <td>Illustrated single work</td>\n",
       "      <td>Illustrated Single Work</td>\n",
       "      <td>...</td>\n",
       "      <td>NaN</td>\n",
       "      <td>NaN</td>\n",
       "      <td>Codices</td>\n",
       "      <td>NaN</td>\n",
       "      <td>http://www.metmuseum.org/art/collection/search...</td>\n",
       "      <td>NaN</td>\n",
       "      <td>NaN</td>\n",
       "      <td>Metropolitan Museum of Art, New York, NY</td>\n",
       "      <td>Abstraction</td>\n",
       "      <td>http://vocab.getty.edu/page/aat/300056508</td>\n",
       "    </tr>\n",
       "    <tr>\n",
       "      <th>1</th>\n",
       "      <td>366196</td>\n",
       "      <td>175T49 R43</td>\n",
       "      <td>True</td>\n",
       "      <td>False</td>\n",
       "      <td>False</td>\n",
       "      <td>591826</td>\n",
       "      <td>The Libraries</td>\n",
       "      <td>NaN</td>\n",
       "      <td>NaN</td>\n",
       "      <td>Vita del Tintoretto</td>\n",
       "      <td>...</td>\n",
       "      <td>NaN</td>\n",
       "      <td>NaN</td>\n",
       "      <td>NaN</td>\n",
       "      <td>NaN</td>\n",
       "      <td>http://www.metmuseum.org/art/collection/search...</td>\n",
       "      <td>https://www.wikidata.org/wiki/Q29385980</td>\n",
       "      <td>NaN</td>\n",
       "      <td>Metropolitan Museum of Art, New York, NY</td>\n",
       "      <td>NaN</td>\n",
       "      <td>NaN</td>\n",
       "    </tr>\n",
       "    <tr>\n",
       "      <th>2</th>\n",
       "      <td>380983</td>\n",
       "      <td>WW.550</td>\n",
       "      <td>False</td>\n",
       "      <td>False</td>\n",
       "      <td>False</td>\n",
       "      <td>650203</td>\n",
       "      <td>Drawings and Prints</td>\n",
       "      <td>NaN</td>\n",
       "      <td>Print</td>\n",
       "      <td>Flowers and Dragonfly</td>\n",
       "      <td>...</td>\n",
       "      <td>NaN</td>\n",
       "      <td>NaN</td>\n",
       "      <td>Prints</td>\n",
       "      <td>NaN</td>\n",
       "      <td>http://www.metmuseum.org/art/collection/search...</td>\n",
       "      <td>NaN</td>\n",
       "      <td>NaN</td>\n",
       "      <td>Metropolitan Museum of Art, New York, NY</td>\n",
       "      <td>Dragonflies|Flowers</td>\n",
       "      <td>http://vocab.getty.edu/page/aat/300310476|http...</td>\n",
       "    </tr>\n",
       "  </tbody>\n",
       "</table>\n",
       "<p>3 rows × 52 columns</p>\n",
       "</div>"
      ],
      "text/plain": [
       "   Unnamed: 0  Object Number  Is Highlight  Is Public Domain  \\\n",
       "0      297513  Inst.1980.3.1         False             False   \n",
       "1      366196     175T49 R43          True             False   \n",
       "2      380983         WW.550         False             False   \n",
       "\n",
       "   Is Timeline Work  Object ID           Department AccessionYear  \\\n",
       "0             False     442985          Islamic Art           NaN   \n",
       "1             False     591826        The Libraries           NaN   \n",
       "2             False     650203  Drawings and Prints           NaN   \n",
       "\n",
       "               Object Name                    Title  ... Excavation River  \\\n",
       "0  Illustrated single work  Illustrated Single Work  ...        NaN   NaN   \n",
       "1                      NaN      Vita del Tintoretto  ...        NaN   NaN   \n",
       "2                    Print    Flowers and Dragonfly  ...        NaN   NaN   \n",
       "\n",
       "  Classification Rights and Reproduction  \\\n",
       "0        Codices                     NaN   \n",
       "1            NaN                     NaN   \n",
       "2         Prints                     NaN   \n",
       "\n",
       "                                       Link Resource  \\\n",
       "0  http://www.metmuseum.org/art/collection/search...   \n",
       "1  http://www.metmuseum.org/art/collection/search...   \n",
       "2  http://www.metmuseum.org/art/collection/search...   \n",
       "\n",
       "                       Object Wikidata URL Metadata Date  \\\n",
       "0                                      NaN           NaN   \n",
       "1  https://www.wikidata.org/wiki/Q29385980           NaN   \n",
       "2                                      NaN           NaN   \n",
       "\n",
       "                                 Repository                 Tags  \\\n",
       "0  Metropolitan Museum of Art, New York, NY          Abstraction   \n",
       "1  Metropolitan Museum of Art, New York, NY                  NaN   \n",
       "2  Metropolitan Museum of Art, New York, NY  Dragonflies|Flowers   \n",
       "\n",
       "                                        Tags AAT URL  \n",
       "0          http://vocab.getty.edu/page/aat/300056508  \n",
       "1                                                NaN  \n",
       "2  http://vocab.getty.edu/page/aat/300310476|http...  \n",
       "\n",
       "[3 rows x 52 columns]"
      ]
     },
     "execution_count": 4,
     "metadata": {},
     "output_type": "execute_result"
    }
   ],
   "source": [
    "data_path=\"../Data/MetObjects_sample.csv\"\n",
    "\n",
    "data= pd.read_csv(data_path)\n",
    "print(data.shape)\n",
    "data.head(3)"
   ]
  },
  {
   "cell_type": "markdown",
   "metadata": {},
   "source": [
    "## Ejercicio 2: Formato y tipos de datos\n",
    "\n",
    "Vamos a ver de qué tipo de datos es cada columna del DataFrame, y vamos a convertir o dar formato **a alguna de las columnas** que tienen tipo de datos incorrecto.\n",
    "\n",
    "### 2.a Detectar las columnas que tienen tipo de datos incorrecto"
   ]
  },
  {
   "cell_type": "code",
   "execution_count": 12,
   "metadata": {},
   "outputs": [
    {
     "data": {
      "text/plain": [
       "Unnamed: 0                   int64\n",
       "Object Number               object\n",
       "Is Highlight                  bool\n",
       "Is Public Domain              bool\n",
       "Is Timeline Work              bool\n",
       "Object ID                    int64\n",
       "Department                  object\n",
       "AccessionYear               object\n",
       "Object Name                 object\n",
       "Title                       object\n",
       "Culture                     object\n",
       "Period                      object\n",
       "Dynasty                     object\n",
       "Reign                       object\n",
       "Portfolio                   object\n",
       "Artist Role                 object\n",
       "Artist Prefix               object\n",
       "Artist Display Name         object\n",
       "Artist Display Bio          object\n",
       "Artist Suffix               object\n",
       "Artist Alpha Sort           object\n",
       "Artist Nationality          object\n",
       "Artist Begin Date           object\n",
       "Artist End Date             object\n",
       "Artist Gender               object\n",
       "Artist ULAN URL             object\n",
       "Artist Wikidata URL         object\n",
       "Object Date                 object\n",
       "Object Begin Date            int64\n",
       "Object End Date              int64\n",
       "Medium                      object\n",
       "Dimensions                  object\n",
       "Credit Line                 object\n",
       "Geography Type              object\n",
       "City                        object\n",
       "State                       object\n",
       "County                      object\n",
       "Country                     object\n",
       "Region                      object\n",
       "Subregion                   object\n",
       "Locale                      object\n",
       "Locus                       object\n",
       "Excavation                  object\n",
       "River                       object\n",
       "Classification              object\n",
       "Rights and Reproduction     object\n",
       "Link Resource               object\n",
       "Object Wikidata URL         object\n",
       "Metadata Date              float64\n",
       "Repository                  object\n",
       "Tags                        object\n",
       "Tags AAT URL                object\n",
       "dtype: object"
      ]
     },
     "execution_count": 12,
     "metadata": {},
     "output_type": "execute_result"
    }
   ],
   "source": [
    "data.isnull().sum()\n",
    "\n",
    "data.dtypes"
   ]
  },
  {
   "cell_type": "markdown",
   "metadata": {},
   "source": [
    "### 2.b AccessionYear\n",
    "\n",
    "Analizar la columna AccessionYear que fue leída como object, y debería ser int.\n",
    "\n",
    "¿Qué valores toma ese campo? ¿Cómo se distribuyen esos valores? ¿Hay valores nulos?\n",
    "\n",
    "Queremos extraer el dato año de los valores no numéricos, y crear una nueva columna en el DataFrame de tipo int que se llame AccessionYearClean y tenga estos valores.\n",
    "\n",
    "Para eso vamos a usar expresiones regulares, apply y lambda.\n",
    "\n",
    "Observación: si la columna tiene valores NaN no vamos a poder convertirla al tipo int. Una opción es reemplazar los valores NaN por algún entero antes de convertir (`fillna`). La otra opción es dejar la columna como tipo float (el tipo de NaN es float).\n"
   ]
  },
  {
   "cell_type": "code",
   "execution_count": 14,
   "metadata": {},
   "outputs": [
    {
     "data": {
      "text/plain": [
       "1963          220\n",
       "1917          140\n",
       "1874          126\n",
       "1929           99\n",
       "2011           98\n",
       "             ... \n",
       "2005-02-15      1\n",
       "1873            1\n",
       "1892            1\n",
       "2020-03-23      1\n",
       "1986-12-29      1\n",
       "Name: AccessionYear, Length: 142, dtype: int64"
      ]
     },
     "execution_count": 14,
     "metadata": {},
     "output_type": "execute_result"
    }
   ],
   "source": [
    "#display(data['AccessionYear'])\n",
    "\n",
    "data['AccessionYear'].value_counts()"
   ]
  },
  {
   "cell_type": "code",
   "execution_count": 15,
   "metadata": {},
   "outputs": [
    {
     "data": {
      "text/plain": [
       "1000"
      ]
     },
     "execution_count": 15,
     "metadata": {},
     "output_type": "execute_result"
    }
   ],
   "source": [
    "data['AccessionYear'].isnull().sum()"
   ]
  },
  {
   "cell_type": "code",
   "execution_count": 16,
   "metadata": {},
   "outputs": [],
   "source": [
    "import re\n",
    "import numpy as np"
   ]
  },
  {
   "cell_type": "code",
   "execution_count": null,
   "metadata": {},
   "outputs": [],
   "source": []
  },
  {
   "cell_type": "markdown",
   "metadata": {},
   "source": [
    "## Ejercicio 3: Categorias - Valores erróneos\n",
    "\n",
    "Miremos ahora el campo \"Artist Gender\"\n",
    "\n",
    "¿Qué valores toma ese campo? ¿Cómo se distribuyen esos valores? ¿Hay valores nulos?\n",
    "\n",
    "Queremos definir como categorías válidas Male, Female y Unknown\n",
    "\n",
    "Y crear una nueva columna en el DataFrame que se llame ArtistGenderClean y tenga estos valores.\n",
    "\n",
    "Para eso vamos a usar expresiones regulares, apply y lambda.\n",
    "\n",
    "¿Podemos deducir cómo está representada la categoría Male en el dataset original?\n",
    "\n",
    "Nota: La propuesta que hacemos para limpiar este campo no es del todo correcta, y vamos a ver por qué más adelante. Pero sirve como ejercicio.\n"
   ]
  },
  {
   "cell_type": "code",
   "execution_count": null,
   "metadata": {},
   "outputs": [],
   "source": []
  },
  {
   "cell_type": "markdown",
   "metadata": {},
   "source": [
    "## Ejercicio 4: Imputación\n",
    "\n",
    "Vamos a analizar ahora los campos \"Object Date\", \"Object Begin Date\", \"Object End Date\"\n",
    "\n",
    "**4.a ¿Cuántos valores nulos hay en \"Object Date\"? ¿Cuántos en \"Object Begin Date\"? ¿Cuántos en \"Object End Date\"?**\n"
   ]
  },
  {
   "cell_type": "code",
   "execution_count": null,
   "metadata": {},
   "outputs": [],
   "source": []
  },
  {
   "cell_type": "markdown",
   "metadata": {},
   "source": [
    "**4.b Usaremos los valores de \"Object Begin Date\" o \"Object End Date\" para imputar los valores de \"Object Date\" con alguno de esos dos campos.**\n",
    "\n",
    "1) Vamos a crear una columna nueva (\"Object Date 4b\") donde copiamos todos los datos de Object Date (para no cambiar los valores originales y nos sirvan para el próximo ejercicio)\n",
    "\n",
    "2) Vamos a rellenar la columna \"Object Date 4b\" con la estrategia que planteamos."
   ]
  },
  {
   "cell_type": "code",
   "execution_count": null,
   "metadata": {},
   "outputs": [],
   "source": []
  },
  {
   "cell_type": "markdown",
   "metadata": {},
   "source": [
    "**4.c Usaremos aleatoriamente los valores de \"Object Begin Date\" o \"Object End Date\" para imputar los valores de \"Object Date\" con alguno de esos dos campos.**\n",
    "\n",
    "Para eso definimos una función get_fill_value que recibe como parámetro una fila da data, y si el valor del campo \"Object Date\" es nulo devuelve aleatoriamente el valor del campo \"Object Begin Date\" u \"Object End Date\" de ese registro.\n",
    "\n",
    "(En este ejercicio practicamos todo!)"
   ]
  },
  {
   "cell_type": "code",
   "execution_count": null,
   "metadata": {},
   "outputs": [],
   "source": []
  },
  {
   "cell_type": "markdown",
   "metadata": {},
   "source": [
    "Vamos a contar ahora cuántos registros rellenó con los valores de Object Begin Date y cuántos con Object End Date"
   ]
  },
  {
   "cell_type": "code",
   "execution_count": null,
   "metadata": {},
   "outputs": [],
   "source": []
  },
  {
   "cell_type": "markdown",
   "metadata": {},
   "source": [
    "## Nota: Organizar el dataset\n",
    "\n",
    "Para llevar a cabo esta tarea necesitamos algunas herramientas que veremos en la segunda parte de Pandas.\n",
    "\n",
    "En esa clase vamos a volver a este ejercicio y resolver este punto.\n",
    "\n",
    "Los campos que vamos a analizar son \"Artist Nationality\" y \"Artist Display Name\""
   ]
  },
  {
   "cell_type": "code",
   "execution_count": null,
   "metadata": {},
   "outputs": [],
   "source": [
    "data[\"Artist Nationality\"].value_counts()"
   ]
  },
  {
   "cell_type": "code",
   "execution_count": null,
   "metadata": {},
   "outputs": [],
   "source": [
    "data[\"Artist Display Name\"].value_counts() "
   ]
  }
 ],
 "metadata": {
  "kernelspec": {
   "display_name": "Python 3.8.13 ('dhdsblend2021')",
   "language": "python",
   "name": "python3"
  },
  "language_info": {
   "codemirror_mode": {
    "name": "ipython",
    "version": 3
   },
   "file_extension": ".py",
   "mimetype": "text/x-python",
   "name": "python",
   "nbconvert_exporter": "python",
   "pygments_lexer": "ipython3",
   "version": "3.8.13"
  },
  "vscode": {
   "interpreter": {
    "hash": "b43af2114f43bcf982d0b53b081e4c6c708721cc588721c6f40c2d9852c4cd7b"
   }
  }
 },
 "nbformat": 4,
 "nbformat_minor": 4
}
