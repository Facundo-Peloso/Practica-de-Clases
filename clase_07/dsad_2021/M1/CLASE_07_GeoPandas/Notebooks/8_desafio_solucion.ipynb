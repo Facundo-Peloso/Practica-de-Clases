{
 "cells": [
  {
   "cell_type": "markdown",
   "metadata": {},
   "source": [
    "---\n",
    "\n",
    "<img src='../../../common/logo_DH.png' align='left' width=35%/>\n"
   ]
  },
  {
   "cell_type": "markdown",
   "metadata": {},
   "source": [
    "## Datasets\n",
    "\n",
    "En la práctica de la clase de hoy usaremos un **conjunto de propiedades** que tienen a la venta la inmobiliaria Properati: https://www.properati.com.ar/. Lo interesante es que a los datos clásicos de la propiedad (valor, superficie, barrio, tipo de propiedad), le agrega la posición geoespacial mediante su latitud y longitud.\n",
    "\n",
    "Por otra parte, vamos a considerar a las **estaciones de subte**, donde tambien figuran el nombre y la línea a la que pertenece, y además, obviamente, sus datos geoposicionales."
   ]
  },
  {
   "cell_type": "markdown",
   "metadata": {},
   "source": [
    "## Ejercicio\n",
    "\n",
    "Comenzamos leyendo los dos datasets en un *dataframe*, y lo transformamos en un *GeoDataFrame*. Es el tipo de datos que requiere GeoPandas para realizar operaciones con datos geoespaciales.\n",
    "\n",
    "Luego vamos a *calcular la distancia* de cada propiedad al obelisco de Buenos Aires, y se registrará en una nueva columna. Haremos un cálculo para ver si existe alguna relacion entre esta distancia y el precio de la propiedad.\n",
    "\n",
    "Finalmente *trazaremos una línea geométrica* con todas las estaciones de subte de una línea, y la graficaremos sobre la ciudad.\n",
    "\n",
    "Alla vamos!"
   ]
  },
  {
   "cell_type": "markdown",
   "metadata": {},
   "source": [
    "---\n",
    "\n",
    "Importamos las bibliotecas que vamos a necesitar:"
   ]
  },
  {
   "cell_type": "code",
   "execution_count": 1,
   "metadata": {},
   "outputs": [],
   "source": [
    "import pandas as pd\n",
    "import geopandas as gpd\n",
    "import matplotlib.pyplot as plt\n",
    "\n",
    "import shapely # genera las figuras geometricas\n",
    "import descartes # relaciona shapely con matplotlib\n",
    "import pyproj # proyecciones. Transformar coordenadas"
   ]
  },
  {
   "cell_type": "markdown",
   "metadata": {},
   "source": [
    "### Parte 1 - Archivo de propiedades"
   ]
  },
  {
   "cell_type": "markdown",
   "metadata": {},
   "source": [
    "Vamos a leer los datos del archivo /M1/CLASE_07/Data/properati_caba.csv en un `DataFrame` de pandas con el método `read_csv`. Lo llamaremos df_prop. \n",
    "\n",
    "*Nota:* los datos vienen separados por tabs. Se debe usar el parámetro <code>sep='\\t'</code>\n",
    "\n",
    "Ayuda:\n",
    "https://pandas.pydata.org/pandas-docs/stable/reference/api/pandas.read_csv.html"
   ]
  },
  {
   "cell_type": "code",
   "execution_count": 2,
   "metadata": {},
   "outputs": [],
   "source": [
    "data_location = \"../Data/properati_caba.csv\"\n",
    "\n",
    "df_prop = pd.read_csv(data_location, sep='\\t', encoding=\"latin1\")"
   ]
  },
  {
   "cell_type": "markdown",
   "metadata": {},
   "source": [
    "- 1.a. Tomamos una muestra de 5 elementos"
   ]
  },
  {
   "cell_type": "code",
   "execution_count": 3,
   "metadata": {},
   "outputs": [
    {
     "data": {
      "text/html": [
       "<div>\n",
       "<style scoped>\n",
       "    .dataframe tbody tr th:only-of-type {\n",
       "        vertical-align: middle;\n",
       "    }\n",
       "\n",
       "    .dataframe tbody tr th {\n",
       "        vertical-align: top;\n",
       "    }\n",
       "\n",
       "    .dataframe thead th {\n",
       "        text-align: right;\n",
       "    }\n",
       "</style>\n",
       "<table border=\"1\" class=\"dataframe\">\n",
       "  <thead>\n",
       "    <tr style=\"text-align: right;\">\n",
       "      <th></th>\n",
       "      <th>property_type</th>\n",
       "      <th>place_name</th>\n",
       "      <th>country_name</th>\n",
       "      <th>state_name</th>\n",
       "      <th>lat</th>\n",
       "      <th>lon</th>\n",
       "      <th>price</th>\n",
       "      <th>currency</th>\n",
       "      <th>surface_total_in_m2</th>\n",
       "    </tr>\n",
       "  </thead>\n",
       "  <tbody>\n",
       "    <tr>\n",
       "      <th>15613</th>\n",
       "      <td>house</td>\n",
       "      <td>Floresta</td>\n",
       "      <td>Argentina</td>\n",
       "      <td>Capital Federal</td>\n",
       "      <td>-34.642421</td>\n",
       "      <td>-58.485610</td>\n",
       "      <td>470000.0</td>\n",
       "      <td>USD</td>\n",
       "      <td>500.0</td>\n",
       "    </tr>\n",
       "    <tr>\n",
       "      <th>13336</th>\n",
       "      <td>apartment</td>\n",
       "      <td>Villa Urquiza</td>\n",
       "      <td>Argentina</td>\n",
       "      <td>Capital Federal</td>\n",
       "      <td>-34.569589</td>\n",
       "      <td>-58.492097</td>\n",
       "      <td>110000.0</td>\n",
       "      <td>USD</td>\n",
       "      <td>55.0</td>\n",
       "    </tr>\n",
       "    <tr>\n",
       "      <th>8138</th>\n",
       "      <td>apartment</td>\n",
       "      <td>Belgrano</td>\n",
       "      <td>Argentina</td>\n",
       "      <td>Capital Federal</td>\n",
       "      <td>-34.564810</td>\n",
       "      <td>-58.462704</td>\n",
       "      <td>840000.0</td>\n",
       "      <td>USD</td>\n",
       "      <td>273.0</td>\n",
       "    </tr>\n",
       "    <tr>\n",
       "      <th>9806</th>\n",
       "      <td>apartment</td>\n",
       "      <td>NuÃ±ez</td>\n",
       "      <td>Argentina</td>\n",
       "      <td>Capital Federal</td>\n",
       "      <td>-34.542750</td>\n",
       "      <td>-58.460145</td>\n",
       "      <td>3200000.0</td>\n",
       "      <td>USD</td>\n",
       "      <td>369.0</td>\n",
       "    </tr>\n",
       "    <tr>\n",
       "      <th>5511</th>\n",
       "      <td>apartment</td>\n",
       "      <td>Mataderos</td>\n",
       "      <td>Argentina</td>\n",
       "      <td>Capital Federal</td>\n",
       "      <td>-34.650876</td>\n",
       "      <td>-58.505925</td>\n",
       "      <td>88000.0</td>\n",
       "      <td>USD</td>\n",
       "      <td>120.0</td>\n",
       "    </tr>\n",
       "  </tbody>\n",
       "</table>\n",
       "</div>"
      ],
      "text/plain": [
       "      property_type     place_name country_name       state_name        lat  \\\n",
       "15613         house       Floresta    Argentina  Capital Federal -34.642421   \n",
       "13336     apartment  Villa Urquiza    Argentina  Capital Federal -34.569589   \n",
       "8138      apartment       Belgrano    Argentina  Capital Federal -34.564810   \n",
       "9806      apartment         NuÃ±ez    Argentina  Capital Federal -34.542750   \n",
       "5511      apartment      Mataderos    Argentina  Capital Federal -34.650876   \n",
       "\n",
       "             lon      price currency  surface_total_in_m2  \n",
       "15613 -58.485610   470000.0      USD                500.0  \n",
       "13336 -58.492097   110000.0      USD                 55.0  \n",
       "8138  -58.462704   840000.0      USD                273.0  \n",
       "9806  -58.460145  3200000.0      USD                369.0  \n",
       "5511  -58.505925    88000.0      USD                120.0  "
      ]
     },
     "execution_count": 3,
     "metadata": {},
     "output_type": "execute_result"
    }
   ],
   "source": [
    "# 1.a\n",
    "df_prop.sample(5)"
   ]
  },
  {
   "cell_type": "markdown",
   "metadata": {},
   "source": [
    "- 1.b. Cuántas propiedades son? Cuántas columnas tiene?"
   ]
  },
  {
   "cell_type": "code",
   "execution_count": 4,
   "metadata": {},
   "outputs": [
    {
     "data": {
      "text/plain": [
       "(17223, 9)"
      ]
     },
     "execution_count": 4,
     "metadata": {},
     "output_type": "execute_result"
    }
   ],
   "source": [
    "# 1.b\n",
    "df_prop.shape"
   ]
  },
  {
   "cell_type": "markdown",
   "metadata": {},
   "source": [
    "- 1.c. Cuáles son las columnas? De qué tipo de datos son?"
   ]
  },
  {
   "cell_type": "code",
   "execution_count": 5,
   "metadata": {},
   "outputs": [
    {
     "data": {
      "text/plain": [
       "property_type           object\n",
       "place_name              object\n",
       "country_name            object\n",
       "state_name              object\n",
       "lat                    float64\n",
       "lon                    float64\n",
       "price                  float64\n",
       "currency                object\n",
       "surface_total_in_m2    float64\n",
       "dtype: object"
      ]
     },
     "execution_count": 5,
     "metadata": {},
     "output_type": "execute_result"
    }
   ],
   "source": [
    "# 1.c\n",
    "df_prop.dtypes"
   ]
  },
  {
   "cell_type": "code",
   "execution_count": 6,
   "metadata": {},
   "outputs": [
    {
     "name": "stdout",
     "output_type": "stream",
     "text": [
      "<class 'pandas.core.frame.DataFrame'>\n",
      "RangeIndex: 17223 entries, 0 to 17222\n",
      "Data columns (total 9 columns):\n",
      " #   Column               Non-Null Count  Dtype  \n",
      "---  ------               --------------  -----  \n",
      " 0   property_type        17223 non-null  object \n",
      " 1   place_name           17223 non-null  object \n",
      " 2   country_name         17223 non-null  object \n",
      " 3   state_name           17223 non-null  object \n",
      " 4   lat                  17223 non-null  float64\n",
      " 5   lon                  17223 non-null  float64\n",
      " 6   price                17223 non-null  float64\n",
      " 7   currency             17223 non-null  object \n",
      " 8   surface_total_in_m2  17223 non-null  float64\n",
      "dtypes: float64(4), object(5)\n",
      "memory usage: 1.2+ MB\n"
     ]
    }
   ],
   "source": [
    "# 1.c. Otra\n",
    "df_prop.info()"
   ]
  },
  {
   "cell_type": "markdown",
   "metadata": {},
   "source": [
    "- 1.d. ¿Cuántas propiedades tenemos por barrio? El barrio figura en la columna *place_name*.\n",
    "\n",
    "Ayuda:\n",
    "\n",
    "    - Libro McKinney - Python for Data Analysis 2ed.pdf - capitulo 10 Data Aggregation and Group Operations\n",
    "\n",
    "    - https://pandas.pydata.org/pandas-docs/stable/reference/api/pandas.Series.value_counts.html?highlight=value_counts#pandas.Series.value_counts"
   ]
  },
  {
   "cell_type": "code",
   "execution_count": 7,
   "metadata": {},
   "outputs": [
    {
     "data": {
      "text/plain": [
       "Palermo            1502\n",
       "Belgrano           1496\n",
       "Caballito          1389\n",
       "Recoleta           1001\n",
       "Flores              893\n",
       "                   ... \n",
       "Parque Chas          15\n",
       "Palermo Viejo        10\n",
       "Villa Soldati         7\n",
       "Villa Riachuelo       3\n",
       "Catalinas             1\n",
       "Name: place_name, Length: 62, dtype: int64"
      ]
     },
     "execution_count": 7,
     "metadata": {},
     "output_type": "execute_result"
    }
   ],
   "source": [
    "# 1.d.\n",
    "barrios = df_prop[\"place_name\"]\n",
    "barrios.value_counts()"
   ]
  },
  {
   "cell_type": "code",
   "execution_count": 8,
   "metadata": {},
   "outputs": [
    {
     "data": {
      "text/plain": [
       "place_name\n",
       "Abasto               59\n",
       "AgronomÃ­a           25\n",
       "Almagro             755\n",
       "Balvanera           426\n",
       "Barracas            309\n",
       "                   ... \n",
       "Villa Riachuelo       3\n",
       "Villa Santa Rita     26\n",
       "Villa Soldati         7\n",
       "Villa Urquiza       774\n",
       "Villa del Parque    215\n",
       "Name: price, Length: 62, dtype: int64"
      ]
     },
     "execution_count": 8,
     "metadata": {},
     "output_type": "execute_result"
    }
   ],
   "source": [
    "# 1.d. Otra forma\n",
    "grouped = df_prop['price'].groupby(df_prop['place_name'])\n",
    "grouped.count()"
   ]
  },
  {
   "cell_type": "code",
   "execution_count": 9,
   "metadata": {},
   "outputs": [
    {
     "data": {
      "text/html": [
       "<div>\n",
       "<style scoped>\n",
       "    .dataframe tbody tr th:only-of-type {\n",
       "        vertical-align: middle;\n",
       "    }\n",
       "\n",
       "    .dataframe tbody tr th {\n",
       "        vertical-align: top;\n",
       "    }\n",
       "\n",
       "    .dataframe thead th {\n",
       "        text-align: right;\n",
       "    }\n",
       "</style>\n",
       "<table border=\"1\" class=\"dataframe\">\n",
       "  <thead>\n",
       "    <tr style=\"text-align: right;\">\n",
       "      <th></th>\n",
       "      <th>price</th>\n",
       "    </tr>\n",
       "    <tr>\n",
       "      <th>place_name</th>\n",
       "      <th></th>\n",
       "    </tr>\n",
       "  </thead>\n",
       "  <tbody>\n",
       "    <tr>\n",
       "      <th>Abasto</th>\n",
       "      <td>59</td>\n",
       "    </tr>\n",
       "    <tr>\n",
       "      <th>AgronomÃ­a</th>\n",
       "      <td>25</td>\n",
       "    </tr>\n",
       "    <tr>\n",
       "      <th>Almagro</th>\n",
       "      <td>755</td>\n",
       "    </tr>\n",
       "    <tr>\n",
       "      <th>Balvanera</th>\n",
       "      <td>426</td>\n",
       "    </tr>\n",
       "    <tr>\n",
       "      <th>Barracas</th>\n",
       "      <td>309</td>\n",
       "    </tr>\n",
       "    <tr>\n",
       "      <th>...</th>\n",
       "      <td>...</td>\n",
       "    </tr>\n",
       "    <tr>\n",
       "      <th>Villa Riachuelo</th>\n",
       "      <td>3</td>\n",
       "    </tr>\n",
       "    <tr>\n",
       "      <th>Villa Santa Rita</th>\n",
       "      <td>26</td>\n",
       "    </tr>\n",
       "    <tr>\n",
       "      <th>Villa Soldati</th>\n",
       "      <td>7</td>\n",
       "    </tr>\n",
       "    <tr>\n",
       "      <th>Villa Urquiza</th>\n",
       "      <td>774</td>\n",
       "    </tr>\n",
       "    <tr>\n",
       "      <th>Villa del Parque</th>\n",
       "      <td>215</td>\n",
       "    </tr>\n",
       "  </tbody>\n",
       "</table>\n",
       "<p>62 rows × 1 columns</p>\n",
       "</div>"
      ],
      "text/plain": [
       "                  price\n",
       "place_name             \n",
       "Abasto               59\n",
       "AgronomÃ­a           25\n",
       "Almagro             755\n",
       "Balvanera           426\n",
       "Barracas            309\n",
       "...                 ...\n",
       "Villa Riachuelo       3\n",
       "Villa Santa Rita     26\n",
       "Villa Soldati         7\n",
       "Villa Urquiza       774\n",
       "Villa del Parque    215\n",
       "\n",
       "[62 rows x 1 columns]"
      ]
     },
     "execution_count": 9,
     "metadata": {},
     "output_type": "execute_result"
    }
   ],
   "source": [
    "# 1.d. Otra forma parecida\n",
    "df_prop.groupby(['place_name'])[['price']].count()"
   ]
  },
  {
   "cell_type": "markdown",
   "metadata": {},
   "source": [
    "- 1.e. Las columnas *lat* y *lon* identifican la *latitud* y la *longitud* de la posición geoespacial de las propiedades. Pero necesitamos que la posición se exprese mediante la forma geométrica Punto, para poder trabajarlo desde GeoPandas.\n",
    "\n",
    "Es decir que debemos transformar el DataFrame en un GeoDataFrame. Lo llamaremos *geo_prop*.\n",
    "\n",
    "Pero para generar un GeoDataFrame, necesitamos agregar a las columnas del DataFrame una nueva columna que contenga una forma geométrica. Es este caso, un *punto*, el cual se genera a partir de la *latitud* y la *longitud*. \n",
    "\n",
    "Es recomendable que la nueva columna se llame *geometry*.\n",
    "\n",
    "Con el método `gpd.points_from_xy` lo realizamos.\n",
    "\n",
    "*Observar* que para definir el tipo *punto*, primero se ingresa la **longitud** y luego la **latitud**.\n",
    "\n",
    "Ayuda:\n",
    "https://geopandas.org/reference/geopandas.points_from_xy.html"
   ]
  },
  {
   "cell_type": "code",
   "execution_count": 10,
   "metadata": {
    "colab": {
     "base_uri": "https://localhost:8080/",
     "height": 289
    },
    "colab_type": "code",
    "executionInfo": {
     "elapsed": 830,
     "status": "ok",
     "timestamp": 1567641541793,
     "user": {
      "displayName": "Julián Ansaldo",
      "photoUrl": "https://lh3.googleusercontent.com/a-/AAuE7mCQI0iy6sTR9TfuLMfXZ90XCqxfdAQtMEcBkjfs1w=s64",
      "userId": "10643095115217147090"
     },
     "user_tz": 180
    },
    "id": "vRpX0jS6G_x5",
    "outputId": "178eafb8-17f3-4205-fcbe-9368fbd51efa",
    "slideshow": {
     "slide_type": "fragment"
    }
   },
   "outputs": [],
   "source": [
    "# 1.e\n",
    "geometria = gpd.points_from_xy(df_prop.lon, df_prop.lat)\n",
    "geo_prop = gpd.GeoDataFrame(df_prop ,geometry=geometria)"
   ]
  },
  {
   "cell_type": "code",
   "execution_count": 11,
   "metadata": {
    "colab": {
     "base_uri": "https://localhost:8080/",
     "height": 289
    },
    "colab_type": "code",
    "executionInfo": {
     "elapsed": 830,
     "status": "ok",
     "timestamp": 1567641541793,
     "user": {
      "displayName": "Julián Ansaldo",
      "photoUrl": "https://lh3.googleusercontent.com/a-/AAuE7mCQI0iy6sTR9TfuLMfXZ90XCqxfdAQtMEcBkjfs1w=s64",
      "userId": "10643095115217147090"
     },
     "user_tz": 180
    },
    "id": "vRpX0jS6G_x5",
    "outputId": "178eafb8-17f3-4205-fcbe-9368fbd51efa",
    "slideshow": {
     "slide_type": "fragment"
    }
   },
   "outputs": [],
   "source": [
    "# 1.e. Otra forma\n",
    "geo_prop1 = gpd.GeoDataFrame(df_prop\n",
    "                           ,geometry=gpd.points_from_xy(df_prop.lon, df_prop.lat))"
   ]
  },
  {
   "cell_type": "markdown",
   "metadata": {},
   "source": [
    "Verificamos la nueva columna mirando las primeras filas"
   ]
  },
  {
   "cell_type": "code",
   "execution_count": 12,
   "metadata": {
    "colab": {
     "base_uri": "https://localhost:8080/",
     "height": 289
    },
    "colab_type": "code",
    "executionInfo": {
     "elapsed": 830,
     "status": "ok",
     "timestamp": 1567641541793,
     "user": {
      "displayName": "Julián Ansaldo",
      "photoUrl": "https://lh3.googleusercontent.com/a-/AAuE7mCQI0iy6sTR9TfuLMfXZ90XCqxfdAQtMEcBkjfs1w=s64",
      "userId": "10643095115217147090"
     },
     "user_tz": 180
    },
    "id": "vRpX0jS6G_x5",
    "outputId": "178eafb8-17f3-4205-fcbe-9368fbd51efa",
    "slideshow": {
     "slide_type": "fragment"
    }
   },
   "outputs": [
    {
     "data": {
      "text/html": [
       "<div>\n",
       "<style scoped>\n",
       "    .dataframe tbody tr th:only-of-type {\n",
       "        vertical-align: middle;\n",
       "    }\n",
       "\n",
       "    .dataframe tbody tr th {\n",
       "        vertical-align: top;\n",
       "    }\n",
       "\n",
       "    .dataframe thead th {\n",
       "        text-align: right;\n",
       "    }\n",
       "</style>\n",
       "<table border=\"1\" class=\"dataframe\">\n",
       "  <thead>\n",
       "    <tr style=\"text-align: right;\">\n",
       "      <th></th>\n",
       "      <th>geometry</th>\n",
       "      <th>lat</th>\n",
       "      <th>lon</th>\n",
       "      <th>property_type</th>\n",
       "      <th>place_name</th>\n",
       "    </tr>\n",
       "  </thead>\n",
       "  <tbody>\n",
       "    <tr>\n",
       "      <th>0</th>\n",
       "      <td>POINT (-58.50884 -34.66182)</td>\n",
       "      <td>-34.661824</td>\n",
       "      <td>-58.508839</td>\n",
       "      <td>PH</td>\n",
       "      <td>Mataderos</td>\n",
       "    </tr>\n",
       "    <tr>\n",
       "      <th>1</th>\n",
       "      <td>POINT (-58.52298 -34.65226)</td>\n",
       "      <td>-34.652262</td>\n",
       "      <td>-58.522982</td>\n",
       "      <td>apartment</td>\n",
       "      <td>Mataderos</td>\n",
       "    </tr>\n",
       "    <tr>\n",
       "      <th>2</th>\n",
       "      <td>POINT (-58.44336 -34.55987)</td>\n",
       "      <td>-34.559873</td>\n",
       "      <td>-58.443362</td>\n",
       "      <td>apartment</td>\n",
       "      <td>Belgrano</td>\n",
       "    </tr>\n",
       "    <tr>\n",
       "      <th>3</th>\n",
       "      <td>POINT (-58.44336 -34.55987)</td>\n",
       "      <td>-34.559873</td>\n",
       "      <td>-58.443362</td>\n",
       "      <td>apartment</td>\n",
       "      <td>Belgrano</td>\n",
       "    </tr>\n",
       "    <tr>\n",
       "      <th>4</th>\n",
       "      <td>POINT (-58.50162 -34.65236)</td>\n",
       "      <td>-34.652356</td>\n",
       "      <td>-58.501624</td>\n",
       "      <td>PH</td>\n",
       "      <td>Mataderos</td>\n",
       "    </tr>\n",
       "  </tbody>\n",
       "</table>\n",
       "</div>"
      ],
      "text/plain": [
       "                      geometry        lat        lon property_type place_name\n",
       "0  POINT (-58.50884 -34.66182) -34.661824 -58.508839            PH  Mataderos\n",
       "1  POINT (-58.52298 -34.65226) -34.652262 -58.522982     apartment  Mataderos\n",
       "2  POINT (-58.44336 -34.55987) -34.559873 -58.443362     apartment   Belgrano\n",
       "3  POINT (-58.44336 -34.55987) -34.559873 -58.443362     apartment   Belgrano\n",
       "4  POINT (-58.50162 -34.65236) -34.652356 -58.501624            PH  Mataderos"
      ]
     },
     "execution_count": 12,
     "metadata": {},
     "output_type": "execute_result"
    }
   ],
   "source": [
    "# 1.e\n",
    "geo_prop.loc[:4, ['geometry', 'lat', 'lon','property_type','place_name']]"
   ]
  },
  {
   "cell_type": "markdown",
   "metadata": {},
   "source": [
    "---\n",
    "\n",
    "### Parte 2 - Archivo de estaciones de subte"
   ]
  },
  {
   "cell_type": "markdown",
   "metadata": {},
   "source": [
    "Vamos a leer los datos del archivo /M1/CLASE_07/Data/estaciones-de-subte.csv en un `DataFrame` de pandas con el método `read_csv`. Lo llamaremos df_subte.\n",
    "\n",
    "*Nota:* los datos vienen separados por comas. Se debe usar el parámetro <code>sep=','</code>"
   ]
  },
  {
   "cell_type": "code",
   "execution_count": 13,
   "metadata": {},
   "outputs": [],
   "source": [
    "data_location = \"../Data/estaciones-de-subte.csv\"\n",
    "\n",
    "df_subte = pd.read_csv(data_location, sep=',')"
   ]
  },
  {
   "cell_type": "markdown",
   "metadata": {},
   "source": [
    "- 2.a. Consultamos los primeros 10 registros"
   ]
  },
  {
   "cell_type": "code",
   "execution_count": 14,
   "metadata": {},
   "outputs": [
    {
     "data": {
      "text/html": [
       "<div>\n",
       "<style scoped>\n",
       "    .dataframe tbody tr th:only-of-type {\n",
       "        vertical-align: middle;\n",
       "    }\n",
       "\n",
       "    .dataframe tbody tr th {\n",
       "        vertical-align: top;\n",
       "    }\n",
       "\n",
       "    .dataframe thead th {\n",
       "        text-align: right;\n",
       "    }\n",
       "</style>\n",
       "<table border=\"1\" class=\"dataframe\">\n",
       "  <thead>\n",
       "    <tr style=\"text-align: right;\">\n",
       "      <th></th>\n",
       "      <th>long</th>\n",
       "      <th>lat</th>\n",
       "      <th>id</th>\n",
       "      <th>estacion</th>\n",
       "      <th>linea</th>\n",
       "    </tr>\n",
       "  </thead>\n",
       "  <tbody>\n",
       "    <tr>\n",
       "      <th>0</th>\n",
       "      <td>-58.398928</td>\n",
       "      <td>-34.635750</td>\n",
       "      <td>1.0</td>\n",
       "      <td>CASEROS</td>\n",
       "      <td>H</td>\n",
       "    </tr>\n",
       "    <tr>\n",
       "      <th>1</th>\n",
       "      <td>-58.400970</td>\n",
       "      <td>-34.629376</td>\n",
       "      <td>2.0</td>\n",
       "      <td>INCLAN - MEZQUITA AL AHMAD</td>\n",
       "      <td>H</td>\n",
       "    </tr>\n",
       "    <tr>\n",
       "      <th>2</th>\n",
       "      <td>-58.402323</td>\n",
       "      <td>-34.623092</td>\n",
       "      <td>3.0</td>\n",
       "      <td>HUMBERTO 1°</td>\n",
       "      <td>H</td>\n",
       "    </tr>\n",
       "    <tr>\n",
       "      <th>3</th>\n",
       "      <td>-58.404732</td>\n",
       "      <td>-34.615242</td>\n",
       "      <td>4.0</td>\n",
       "      <td>VENEZUELA</td>\n",
       "      <td>H</td>\n",
       "    </tr>\n",
       "    <tr>\n",
       "      <th>4</th>\n",
       "      <td>-58.406036</td>\n",
       "      <td>-34.608935</td>\n",
       "      <td>5.0</td>\n",
       "      <td>ONCE - 30 DE DICIEMBRE</td>\n",
       "      <td>H</td>\n",
       "    </tr>\n",
       "    <tr>\n",
       "      <th>5</th>\n",
       "      <td>-58.380574</td>\n",
       "      <td>-34.604245</td>\n",
       "      <td>6.0</td>\n",
       "      <td>9 DE JULIO</td>\n",
       "      <td>D</td>\n",
       "    </tr>\n",
       "    <tr>\n",
       "      <th>6</th>\n",
       "      <td>-58.397924</td>\n",
       "      <td>-34.599757</td>\n",
       "      <td>7.0</td>\n",
       "      <td>FACULTAD DE MEDICINA</td>\n",
       "      <td>D</td>\n",
       "    </tr>\n",
       "    <tr>\n",
       "      <th>7</th>\n",
       "      <td>-58.385142</td>\n",
       "      <td>-34.601587</td>\n",
       "      <td>8.0</td>\n",
       "      <td>TRIBUNALES - TEATRO COLÓN</td>\n",
       "      <td>D</td>\n",
       "    </tr>\n",
       "    <tr>\n",
       "      <th>8</th>\n",
       "      <td>-58.407161</td>\n",
       "      <td>-34.591628</td>\n",
       "      <td>9.0</td>\n",
       "      <td>AGÜERO</td>\n",
       "      <td>D</td>\n",
       "    </tr>\n",
       "    <tr>\n",
       "      <th>9</th>\n",
       "      <td>-58.415955</td>\n",
       "      <td>-34.585156</td>\n",
       "      <td>10.0</td>\n",
       "      <td>R.SCALABRINI ORTIZ</td>\n",
       "      <td>D</td>\n",
       "    </tr>\n",
       "  </tbody>\n",
       "</table>\n",
       "</div>"
      ],
      "text/plain": [
       "        long        lat    id                    estacion linea\n",
       "0 -58.398928 -34.635750   1.0                     CASEROS     H\n",
       "1 -58.400970 -34.629376   2.0  INCLAN - MEZQUITA AL AHMAD     H\n",
       "2 -58.402323 -34.623092   3.0                 HUMBERTO 1°     H\n",
       "3 -58.404732 -34.615242   4.0                   VENEZUELA     H\n",
       "4 -58.406036 -34.608935   5.0      ONCE - 30 DE DICIEMBRE     H\n",
       "5 -58.380574 -34.604245   6.0                  9 DE JULIO     D\n",
       "6 -58.397924 -34.599757   7.0        FACULTAD DE MEDICINA     D\n",
       "7 -58.385142 -34.601587   8.0   TRIBUNALES - TEATRO COLÓN     D\n",
       "8 -58.407161 -34.591628   9.0                      AGÜERO     D\n",
       "9 -58.415955 -34.585156  10.0          R.SCALABRINI ORTIZ     D"
      ]
     },
     "execution_count": 14,
     "metadata": {},
     "output_type": "execute_result"
    }
   ],
   "source": [
    "#2.a.\n",
    "df_subte.head(10)"
   ]
  },
  {
   "cell_type": "markdown",
   "metadata": {},
   "source": [
    "- 2.b. Cuántas estaciones son? Cuántas columnas tiene?"
   ]
  },
  {
   "cell_type": "code",
   "execution_count": 15,
   "metadata": {},
   "outputs": [
    {
     "name": "stdout",
     "output_type": "stream",
     "text": [
      "estaciones: 90\n",
      "columnas: 5\n"
     ]
    }
   ],
   "source": [
    "# 2.b.\n",
    "print(\"estaciones: \" + str(df_subte.shape[0]))\n",
    "print(\"columnas: \" + str(df_subte.shape[1]))"
   ]
  },
  {
   "cell_type": "markdown",
   "metadata": {},
   "source": [
    "- 2.c. Cuáles son las columnas? De qué tipo de datos son?"
   ]
  },
  {
   "cell_type": "code",
   "execution_count": 16,
   "metadata": {},
   "outputs": [
    {
     "data": {
      "text/plain": [
       "long        float64\n",
       "lat         float64\n",
       "id          float64\n",
       "estacion     object\n",
       "linea        object\n",
       "dtype: object"
      ]
     },
     "execution_count": 16,
     "metadata": {},
     "output_type": "execute_result"
    }
   ],
   "source": [
    "# 2.c.\n",
    "df_subte.dtypes"
   ]
  },
  {
   "cell_type": "markdown",
   "metadata": {},
   "source": [
    "- 2.d. ¿Cuantas estaciones tenemos por línea?\n",
    "\n",
    "Ayuda: es similar al punto 1.d"
   ]
  },
  {
   "cell_type": "code",
   "execution_count": 17,
   "metadata": {},
   "outputs": [
    {
     "data": {
      "text/plain": [
       "A    18\n",
       "E    18\n",
       "B    17\n",
       "D    16\n",
       "H    12\n",
       "C     9\n",
       "Name: linea, dtype: int64"
      ]
     },
     "execution_count": 17,
     "metadata": {},
     "output_type": "execute_result"
    }
   ],
   "source": [
    "# 2.d.\n",
    "lineas = df_subte[\"linea\"]\n",
    "lineas.value_counts()"
   ]
  },
  {
   "cell_type": "code",
   "execution_count": 18,
   "metadata": {},
   "outputs": [
    {
     "data": {
      "text/plain": [
       "linea\n",
       "A    18\n",
       "B    17\n",
       "C     9\n",
       "D    16\n",
       "E    18\n",
       "H    12\n",
       "Name: id, dtype: int64"
      ]
     },
     "execution_count": 18,
     "metadata": {},
     "output_type": "execute_result"
    }
   ],
   "source": [
    "# 2.d. Otra forma\n",
    "grouped = df_subte['id'].groupby(df_subte['linea'])\n",
    "grouped.count()"
   ]
  },
  {
   "cell_type": "code",
   "execution_count": 19,
   "metadata": {},
   "outputs": [
    {
     "data": {
      "text/html": [
       "<div>\n",
       "<style scoped>\n",
       "    .dataframe tbody tr th:only-of-type {\n",
       "        vertical-align: middle;\n",
       "    }\n",
       "\n",
       "    .dataframe tbody tr th {\n",
       "        vertical-align: top;\n",
       "    }\n",
       "\n",
       "    .dataframe thead th {\n",
       "        text-align: right;\n",
       "    }\n",
       "</style>\n",
       "<table border=\"1\" class=\"dataframe\">\n",
       "  <thead>\n",
       "    <tr style=\"text-align: right;\">\n",
       "      <th></th>\n",
       "      <th>id</th>\n",
       "    </tr>\n",
       "    <tr>\n",
       "      <th>linea</th>\n",
       "      <th></th>\n",
       "    </tr>\n",
       "  </thead>\n",
       "  <tbody>\n",
       "    <tr>\n",
       "      <th>A</th>\n",
       "      <td>18</td>\n",
       "    </tr>\n",
       "    <tr>\n",
       "      <th>B</th>\n",
       "      <td>17</td>\n",
       "    </tr>\n",
       "    <tr>\n",
       "      <th>C</th>\n",
       "      <td>9</td>\n",
       "    </tr>\n",
       "    <tr>\n",
       "      <th>D</th>\n",
       "      <td>16</td>\n",
       "    </tr>\n",
       "    <tr>\n",
       "      <th>E</th>\n",
       "      <td>18</td>\n",
       "    </tr>\n",
       "    <tr>\n",
       "      <th>H</th>\n",
       "      <td>12</td>\n",
       "    </tr>\n",
       "  </tbody>\n",
       "</table>\n",
       "</div>"
      ],
      "text/plain": [
       "       id\n",
       "linea    \n",
       "A      18\n",
       "B      17\n",
       "C       9\n",
       "D      16\n",
       "E      18\n",
       "H      12"
      ]
     },
     "execution_count": 19,
     "metadata": {},
     "output_type": "execute_result"
    }
   ],
   "source": [
    "# 2.d. Otra forma parecida\n",
    "df_subte.groupby(['linea'])[['id']].count()"
   ]
  },
  {
   "cell_type": "markdown",
   "metadata": {},
   "source": [
    "- 2.e. Las columnas *lat* y *long* identifican la *latitud* y la *longitud* de la posición geoespacial de las propiedades. Pero necesitamos que la posición se exprese mediante la forma geométrica Punto, para poder trabajarlo desde GeoPandas.\n",
    "\n",
    "Ayuda: es similar al punto 1.e"
   ]
  },
  {
   "cell_type": "code",
   "execution_count": 20,
   "metadata": {
    "colab": {
     "base_uri": "https://localhost:8080/",
     "height": 289
    },
    "colab_type": "code",
    "executionInfo": {
     "elapsed": 830,
     "status": "ok",
     "timestamp": 1567641541793,
     "user": {
      "displayName": "Julián Ansaldo",
      "photoUrl": "https://lh3.googleusercontent.com/a-/AAuE7mCQI0iy6sTR9TfuLMfXZ90XCqxfdAQtMEcBkjfs1w=s64",
      "userId": "10643095115217147090"
     },
     "user_tz": 180
    },
    "id": "vRpX0jS6G_x5",
    "outputId": "178eafb8-17f3-4205-fcbe-9368fbd51efa",
    "slideshow": {
     "slide_type": "fragment"
    }
   },
   "outputs": [],
   "source": [
    "# 2.e.\n",
    "geo_subte = gpd.GeoDataFrame(df_subte\n",
    "                           ,geometry=gpd.points_from_xy(df_subte.long, df_subte.lat))"
   ]
  },
  {
   "cell_type": "markdown",
   "metadata": {},
   "source": [
    "Verificamos la nueva columna mirando las primeras filas"
   ]
  },
  {
   "cell_type": "code",
   "execution_count": 21,
   "metadata": {},
   "outputs": [
    {
     "data": {
      "text/html": [
       "<div>\n",
       "<style scoped>\n",
       "    .dataframe tbody tr th:only-of-type {\n",
       "        vertical-align: middle;\n",
       "    }\n",
       "\n",
       "    .dataframe tbody tr th {\n",
       "        vertical-align: top;\n",
       "    }\n",
       "\n",
       "    .dataframe thead th {\n",
       "        text-align: right;\n",
       "    }\n",
       "</style>\n",
       "<table border=\"1\" class=\"dataframe\">\n",
       "  <thead>\n",
       "    <tr style=\"text-align: right;\">\n",
       "      <th></th>\n",
       "      <th>long</th>\n",
       "      <th>lat</th>\n",
       "      <th>id</th>\n",
       "      <th>estacion</th>\n",
       "      <th>linea</th>\n",
       "      <th>geometry</th>\n",
       "    </tr>\n",
       "  </thead>\n",
       "  <tbody>\n",
       "    <tr>\n",
       "      <th>0</th>\n",
       "      <td>-58.398928</td>\n",
       "      <td>-34.635750</td>\n",
       "      <td>1.0</td>\n",
       "      <td>CASEROS</td>\n",
       "      <td>H</td>\n",
       "      <td>POINT (-58.39893 -34.63575)</td>\n",
       "    </tr>\n",
       "    <tr>\n",
       "      <th>1</th>\n",
       "      <td>-58.400970</td>\n",
       "      <td>-34.629376</td>\n",
       "      <td>2.0</td>\n",
       "      <td>INCLAN - MEZQUITA AL AHMAD</td>\n",
       "      <td>H</td>\n",
       "      <td>POINT (-58.40097 -34.62938)</td>\n",
       "    </tr>\n",
       "    <tr>\n",
       "      <th>2</th>\n",
       "      <td>-58.402323</td>\n",
       "      <td>-34.623092</td>\n",
       "      <td>3.0</td>\n",
       "      <td>HUMBERTO 1°</td>\n",
       "      <td>H</td>\n",
       "      <td>POINT (-58.40232 -34.62309)</td>\n",
       "    </tr>\n",
       "    <tr>\n",
       "      <th>3</th>\n",
       "      <td>-58.404732</td>\n",
       "      <td>-34.615242</td>\n",
       "      <td>4.0</td>\n",
       "      <td>VENEZUELA</td>\n",
       "      <td>H</td>\n",
       "      <td>POINT (-58.40473 -34.61524)</td>\n",
       "    </tr>\n",
       "    <tr>\n",
       "      <th>4</th>\n",
       "      <td>-58.406036</td>\n",
       "      <td>-34.608935</td>\n",
       "      <td>5.0</td>\n",
       "      <td>ONCE - 30 DE DICIEMBRE</td>\n",
       "      <td>H</td>\n",
       "      <td>POINT (-58.40604 -34.60894)</td>\n",
       "    </tr>\n",
       "  </tbody>\n",
       "</table>\n",
       "</div>"
      ],
      "text/plain": [
       "        long        lat   id                    estacion linea  \\\n",
       "0 -58.398928 -34.635750  1.0                     CASEROS     H   \n",
       "1 -58.400970 -34.629376  2.0  INCLAN - MEZQUITA AL AHMAD     H   \n",
       "2 -58.402323 -34.623092  3.0                 HUMBERTO 1°     H   \n",
       "3 -58.404732 -34.615242  4.0                   VENEZUELA     H   \n",
       "4 -58.406036 -34.608935  5.0      ONCE - 30 DE DICIEMBRE     H   \n",
       "\n",
       "                      geometry  \n",
       "0  POINT (-58.39893 -34.63575)  \n",
       "1  POINT (-58.40097 -34.62938)  \n",
       "2  POINT (-58.40232 -34.62309)  \n",
       "3  POINT (-58.40473 -34.61524)  \n",
       "4  POINT (-58.40604 -34.60894)  "
      ]
     },
     "execution_count": 21,
     "metadata": {},
     "output_type": "execute_result"
    }
   ],
   "source": [
    "geo_subte.head(5)"
   ]
  },
  {
   "cell_type": "markdown",
   "metadata": {},
   "source": [
    "---\n",
    "\n",
    "### Parte 3 - Cálculo de la distancia\n",
    "\n",
    "Vamos a calcular la **distancia de cada propiedad al obelisco de Buenos Aires**, y la registramos en una nueva columna."
   ]
  },
  {
   "cell_type": "markdown",
   "metadata": {},
   "source": [
    "Primero necesitamos representar el lugar geográfico del Obelisco de Buenos Aires. Lo hacemos mediante la forma geométrica *Punto*, y las cooordenadas del lugar. "
   ]
  },
  {
   "cell_type": "code",
   "execution_count": 22,
   "metadata": {},
   "outputs": [],
   "source": [
    "from shapely.geometry import Point\n",
    "\n",
    "punto_obelisco_p = Point(-58.381555,-34.605425)"
   ]
  },
  {
   "cell_type": "code",
   "execution_count": 23,
   "metadata": {},
   "outputs": [
    {
     "data": {
      "text/plain": [
       "shapely.geometry.point.Point"
      ]
     },
     "execution_count": 23,
     "metadata": {},
     "output_type": "execute_result"
    }
   ],
   "source": [
    "type(punto_obelisco_p)"
   ]
  },
  {
   "cell_type": "markdown",
   "metadata": {},
   "source": [
    "Pero el método que calcula la distancia entre dos puntos, <code>geopy.distance.geodesic</code>, necesita representar el lugar geográfico del Obelisco de Buenos Aires mediante una *tupla*."
   ]
  },
  {
   "cell_type": "code",
   "execution_count": 24,
   "metadata": {},
   "outputs": [],
   "source": [
    "punto_obelisco = (-58.381555,-34.605425)"
   ]
  },
  {
   "cell_type": "code",
   "execution_count": 25,
   "metadata": {},
   "outputs": [
    {
     "data": {
      "text/plain": [
       "tuple"
      ]
     },
     "execution_count": 25,
     "metadata": {},
     "output_type": "execute_result"
    }
   ],
   "source": [
    "type(punto_obelisco)"
   ]
  },
  {
   "cell_type": "markdown",
   "metadata": {},
   "source": [
    "Ahora podemos agregar la nueva columna con la distancia entre el punto del obelisco y el punto de cada propiedad (en metros). La llamaremos *distancia_obelisco*. \n",
    "\n",
    "Se debe generar **una iteración** sobre el indice de geo_prop:\n",
    "\n",
    "Ayuda:\n",
    "<code>\n",
    "for i in geo_prop.index:\n",
    "    geo_prop.loc[i, 'distancia_obelisco'] = calculo distancia entre obelisco y cada propiedad.</code>\n",
    "    \n",
    "El cálculo se realiza con el método <code>geopy.distance.geodesic</code>, el cual se explica en la notebook 3_geopandas_operaciones.\n",
    "\n",
    "Ademas con la sentencia <code>geo_prop.loc[i,'geometry'].x</code> obtenemos la coordenada longitud de la distancia.\n",
    "\n",
    "Debe terminar con <code>.meters</code> para indicar la distancia en metros\n",
    "\n",
    "Ver https://geopy.readthedocs.io/en/stable/#module-geopy.distance"
   ]
  },
  {
   "cell_type": "code",
   "execution_count": 26,
   "metadata": {},
   "outputs": [],
   "source": [
    "# 3.a\n",
    "import geopy.distance\n",
    "\n",
    "for i in geo_prop.index:\n",
    "    geo_prop.loc[i, 'distancia_obelisco'] = geopy.distance.geodesic(punto_obelisco,\n",
    "                  (geo_prop.loc[i,'geometry'].x\n",
    "                  ,geo_prop.loc[i,'geometry'].y)).meters"
   ]
  },
  {
   "cell_type": "markdown",
   "metadata": {},
   "source": [
    "Verificamos la nueva columna mirando las primeras filas"
   ]
  },
  {
   "cell_type": "code",
   "execution_count": 27,
   "metadata": {},
   "outputs": [
    {
     "data": {
      "text/html": [
       "<div>\n",
       "<style scoped>\n",
       "    .dataframe tbody tr th:only-of-type {\n",
       "        vertical-align: middle;\n",
       "    }\n",
       "\n",
       "    .dataframe tbody tr th {\n",
       "        vertical-align: top;\n",
       "    }\n",
       "\n",
       "    .dataframe thead th {\n",
       "        text-align: right;\n",
       "    }\n",
       "</style>\n",
       "<table border=\"1\" class=\"dataframe\">\n",
       "  <thead>\n",
       "    <tr style=\"text-align: right;\">\n",
       "      <th></th>\n",
       "      <th>distancia_obelisco</th>\n",
       "      <th>geometry</th>\n",
       "      <th>lat</th>\n",
       "      <th>lon</th>\n",
       "      <th>property_type</th>\n",
       "      <th>place_name</th>\n",
       "    </tr>\n",
       "  </thead>\n",
       "  <tbody>\n",
       "    <tr>\n",
       "      <th>0</th>\n",
       "      <td>14555.078219</td>\n",
       "      <td>POINT (-58.50884 -34.66182)</td>\n",
       "      <td>-34.661824</td>\n",
       "      <td>-58.508839</td>\n",
       "      <td>PH</td>\n",
       "      <td>Mataderos</td>\n",
       "    </tr>\n",
       "    <tr>\n",
       "      <th>1</th>\n",
       "      <td>15988.570648</td>\n",
       "      <td>POINT (-58.52298 -34.65226)</td>\n",
       "      <td>-34.652262</td>\n",
       "      <td>-58.522982</td>\n",
       "      <td>apartment</td>\n",
       "      <td>Mataderos</td>\n",
       "    </tr>\n",
       "    <tr>\n",
       "      <th>2</th>\n",
       "      <td>7381.316759</td>\n",
       "      <td>POINT (-58.44336 -34.55987)</td>\n",
       "      <td>-34.559873</td>\n",
       "      <td>-58.443362</td>\n",
       "      <td>apartment</td>\n",
       "      <td>Belgrano</td>\n",
       "    </tr>\n",
       "    <tr>\n",
       "      <th>3</th>\n",
       "      <td>7381.316759</td>\n",
       "      <td>POINT (-58.44336 -34.55987)</td>\n",
       "      <td>-34.559873</td>\n",
       "      <td>-58.443362</td>\n",
       "      <td>apartment</td>\n",
       "      <td>Belgrano</td>\n",
       "    </tr>\n",
       "    <tr>\n",
       "      <th>4</th>\n",
       "      <td>13651.907067</td>\n",
       "      <td>POINT (-58.50162 -34.65236)</td>\n",
       "      <td>-34.652356</td>\n",
       "      <td>-58.501624</td>\n",
       "      <td>PH</td>\n",
       "      <td>Mataderos</td>\n",
       "    </tr>\n",
       "  </tbody>\n",
       "</table>\n",
       "</div>"
      ],
      "text/plain": [
       "   distancia_obelisco                     geometry        lat        lon  \\\n",
       "0        14555.078219  POINT (-58.50884 -34.66182) -34.661824 -58.508839   \n",
       "1        15988.570648  POINT (-58.52298 -34.65226) -34.652262 -58.522982   \n",
       "2         7381.316759  POINT (-58.44336 -34.55987) -34.559873 -58.443362   \n",
       "3         7381.316759  POINT (-58.44336 -34.55987) -34.559873 -58.443362   \n",
       "4        13651.907067  POINT (-58.50162 -34.65236) -34.652356 -58.501624   \n",
       "\n",
       "  property_type place_name  \n",
       "0            PH  Mataderos  \n",
       "1     apartment  Mataderos  \n",
       "2     apartment   Belgrano  \n",
       "3     apartment   Belgrano  \n",
       "4            PH  Mataderos  "
      ]
     },
     "execution_count": 27,
     "metadata": {},
     "output_type": "execute_result"
    }
   ],
   "source": [
    "geo_prop.loc[:4, ['distancia_obelisco','geometry', 'lat', 'lon','property_type','place_name']]"
   ]
  },
  {
   "cell_type": "markdown",
   "metadata": {},
   "source": [
    "Vamos a calcular una relación entre la distancia al obelisco y los precios de cada propiedad. \n",
    "\n",
    "Calculemos el promedio por barrio de la distancia y de los precios.Y luego hacemos un ranking de los promedios, y vemos si los primeros 10 rankeados de cada promedio son de los mismos barrios."
   ]
  },
  {
   "cell_type": "markdown",
   "metadata": {},
   "source": [
    "Para todos los calculos necesitamos usar el método **groupby**.\n",
    "\n",
    "Primero se debe crear un nuevo GeoDataFrame con tantas filas como barrios tenemos."
   ]
  },
  {
   "cell_type": "code",
   "execution_count": 28,
   "metadata": {},
   "outputs": [],
   "source": [
    "geo_prop_group = geo_prop.groupby(['place_name']).count()"
   ]
  },
  {
   "cell_type": "code",
   "execution_count": 29,
   "metadata": {},
   "outputs": [
    {
     "data": {
      "text/plain": [
       "geopandas.geodataframe.GeoDataFrame"
      ]
     },
     "execution_count": 29,
     "metadata": {},
     "output_type": "execute_result"
    }
   ],
   "source": [
    "type(geo_prop_group)"
   ]
  },
  {
   "cell_type": "code",
   "execution_count": 30,
   "metadata": {},
   "outputs": [
    {
     "data": {
      "text/html": [
       "<div>\n",
       "<style scoped>\n",
       "    .dataframe tbody tr th:only-of-type {\n",
       "        vertical-align: middle;\n",
       "    }\n",
       "\n",
       "    .dataframe tbody tr th {\n",
       "        vertical-align: top;\n",
       "    }\n",
       "\n",
       "    .dataframe thead th {\n",
       "        text-align: right;\n",
       "    }\n",
       "</style>\n",
       "<table border=\"1\" class=\"dataframe\">\n",
       "  <thead>\n",
       "    <tr style=\"text-align: right;\">\n",
       "      <th></th>\n",
       "      <th>property_type</th>\n",
       "      <th>country_name</th>\n",
       "      <th>state_name</th>\n",
       "      <th>lat</th>\n",
       "      <th>lon</th>\n",
       "      <th>price</th>\n",
       "      <th>currency</th>\n",
       "      <th>surface_total_in_m2</th>\n",
       "      <th>geometry</th>\n",
       "      <th>distancia_obelisco</th>\n",
       "    </tr>\n",
       "    <tr>\n",
       "      <th>place_name</th>\n",
       "      <th></th>\n",
       "      <th></th>\n",
       "      <th></th>\n",
       "      <th></th>\n",
       "      <th></th>\n",
       "      <th></th>\n",
       "      <th></th>\n",
       "      <th></th>\n",
       "      <th></th>\n",
       "      <th></th>\n",
       "    </tr>\n",
       "  </thead>\n",
       "  <tbody>\n",
       "    <tr>\n",
       "      <th>Abasto</th>\n",
       "      <td>59</td>\n",
       "      <td>59</td>\n",
       "      <td>59</td>\n",
       "      <td>59</td>\n",
       "      <td>59</td>\n",
       "      <td>59</td>\n",
       "      <td>59</td>\n",
       "      <td>59</td>\n",
       "      <td>59</td>\n",
       "      <td>59</td>\n",
       "    </tr>\n",
       "    <tr>\n",
       "      <th>AgronomÃ­a</th>\n",
       "      <td>25</td>\n",
       "      <td>25</td>\n",
       "      <td>25</td>\n",
       "      <td>25</td>\n",
       "      <td>25</td>\n",
       "      <td>25</td>\n",
       "      <td>25</td>\n",
       "      <td>25</td>\n",
       "      <td>25</td>\n",
       "      <td>25</td>\n",
       "    </tr>\n",
       "    <tr>\n",
       "      <th>Almagro</th>\n",
       "      <td>755</td>\n",
       "      <td>755</td>\n",
       "      <td>755</td>\n",
       "      <td>755</td>\n",
       "      <td>755</td>\n",
       "      <td>755</td>\n",
       "      <td>755</td>\n",
       "      <td>755</td>\n",
       "      <td>755</td>\n",
       "      <td>755</td>\n",
       "    </tr>\n",
       "    <tr>\n",
       "      <th>Balvanera</th>\n",
       "      <td>426</td>\n",
       "      <td>426</td>\n",
       "      <td>426</td>\n",
       "      <td>426</td>\n",
       "      <td>426</td>\n",
       "      <td>426</td>\n",
       "      <td>426</td>\n",
       "      <td>426</td>\n",
       "      <td>426</td>\n",
       "      <td>426</td>\n",
       "    </tr>\n",
       "    <tr>\n",
       "      <th>Barracas</th>\n",
       "      <td>309</td>\n",
       "      <td>309</td>\n",
       "      <td>309</td>\n",
       "      <td>309</td>\n",
       "      <td>309</td>\n",
       "      <td>309</td>\n",
       "      <td>309</td>\n",
       "      <td>309</td>\n",
       "      <td>309</td>\n",
       "      <td>309</td>\n",
       "    </tr>\n",
       "    <tr>\n",
       "      <th>...</th>\n",
       "      <td>...</td>\n",
       "      <td>...</td>\n",
       "      <td>...</td>\n",
       "      <td>...</td>\n",
       "      <td>...</td>\n",
       "      <td>...</td>\n",
       "      <td>...</td>\n",
       "      <td>...</td>\n",
       "      <td>...</td>\n",
       "      <td>...</td>\n",
       "    </tr>\n",
       "    <tr>\n",
       "      <th>Villa Riachuelo</th>\n",
       "      <td>3</td>\n",
       "      <td>3</td>\n",
       "      <td>3</td>\n",
       "      <td>3</td>\n",
       "      <td>3</td>\n",
       "      <td>3</td>\n",
       "      <td>3</td>\n",
       "      <td>3</td>\n",
       "      <td>3</td>\n",
       "      <td>3</td>\n",
       "    </tr>\n",
       "    <tr>\n",
       "      <th>Villa Santa Rita</th>\n",
       "      <td>26</td>\n",
       "      <td>26</td>\n",
       "      <td>26</td>\n",
       "      <td>26</td>\n",
       "      <td>26</td>\n",
       "      <td>26</td>\n",
       "      <td>26</td>\n",
       "      <td>26</td>\n",
       "      <td>26</td>\n",
       "      <td>26</td>\n",
       "    </tr>\n",
       "    <tr>\n",
       "      <th>Villa Soldati</th>\n",
       "      <td>7</td>\n",
       "      <td>7</td>\n",
       "      <td>7</td>\n",
       "      <td>7</td>\n",
       "      <td>7</td>\n",
       "      <td>7</td>\n",
       "      <td>7</td>\n",
       "      <td>7</td>\n",
       "      <td>7</td>\n",
       "      <td>7</td>\n",
       "    </tr>\n",
       "    <tr>\n",
       "      <th>Villa Urquiza</th>\n",
       "      <td>774</td>\n",
       "      <td>774</td>\n",
       "      <td>774</td>\n",
       "      <td>774</td>\n",
       "      <td>774</td>\n",
       "      <td>774</td>\n",
       "      <td>774</td>\n",
       "      <td>774</td>\n",
       "      <td>774</td>\n",
       "      <td>774</td>\n",
       "    </tr>\n",
       "    <tr>\n",
       "      <th>Villa del Parque</th>\n",
       "      <td>215</td>\n",
       "      <td>215</td>\n",
       "      <td>215</td>\n",
       "      <td>215</td>\n",
       "      <td>215</td>\n",
       "      <td>215</td>\n",
       "      <td>215</td>\n",
       "      <td>215</td>\n",
       "      <td>215</td>\n",
       "      <td>215</td>\n",
       "    </tr>\n",
       "  </tbody>\n",
       "</table>\n",
       "<p>62 rows × 10 columns</p>\n",
       "</div>"
      ],
      "text/plain": [
       "                  property_type  country_name  state_name  lat  lon  price  \\\n",
       "place_name                                                                   \n",
       "Abasto                       59            59          59   59   59     59   \n",
       "AgronomÃ­a                   25            25          25   25   25     25   \n",
       "Almagro                     755           755         755  755  755    755   \n",
       "Balvanera                   426           426         426  426  426    426   \n",
       "Barracas                    309           309         309  309  309    309   \n",
       "...                         ...           ...         ...  ...  ...    ...   \n",
       "Villa Riachuelo               3             3           3    3    3      3   \n",
       "Villa Santa Rita             26            26          26   26   26     26   \n",
       "Villa Soldati                 7             7           7    7    7      7   \n",
       "Villa Urquiza               774           774         774  774  774    774   \n",
       "Villa del Parque            215           215         215  215  215    215   \n",
       "\n",
       "                  currency  surface_total_in_m2  geometry  distancia_obelisco  \n",
       "place_name                                                                     \n",
       "Abasto                  59                   59        59                  59  \n",
       "AgronomÃ­a              25                   25        25                  25  \n",
       "Almagro                755                  755       755                 755  \n",
       "Balvanera              426                  426       426                 426  \n",
       "Barracas               309                  309       309                 309  \n",
       "...                    ...                  ...       ...                 ...  \n",
       "Villa Riachuelo          3                    3         3                   3  \n",
       "Villa Santa Rita        26                   26        26                  26  \n",
       "Villa Soldati            7                    7         7                   7  \n",
       "Villa Urquiza          774                  774       774                 774  \n",
       "Villa del Parque       215                  215       215                 215  \n",
       "\n",
       "[62 rows x 10 columns]"
      ]
     },
     "execution_count": 30,
     "metadata": {},
     "output_type": "execute_result"
    }
   ],
   "source": [
    "geo_prop_group"
   ]
  },
  {
   "cell_type": "markdown",
   "metadata": {},
   "source": [
    "Luego debemos agregar dos columnas con los promedios (distancia y precio) por barrio.\n",
    "\n",
    "Ayuda:\n",
    "<code>\n",
    "geo_prop_group['nueva columna'] = geo_prop.groupby(['xxxxxxx'])[[\"yyyy\"]].mean()\n",
    "</code>"
   ]
  },
  {
   "cell_type": "code",
   "execution_count": 31,
   "metadata": {},
   "outputs": [],
   "source": [
    "# 3.b. Promedio precios por barrio\n",
    "geo_prop_group['precio']  =  geo_prop.groupby(['place_name'])[['price']].mean()"
   ]
  },
  {
   "cell_type": "code",
   "execution_count": 32,
   "metadata": {},
   "outputs": [],
   "source": [
    "# 3.b.Promedio distancia por barrio\n",
    "geo_prop_group['distancia'] =  geo_prop.groupby(['place_name'])[['distancia_obelisco']].mean()"
   ]
  },
  {
   "cell_type": "markdown",
   "metadata": {},
   "source": [
    "Y finalmente, agregar otras dos columnas con el ranking según el promedio (distancia y precio) por barrio.\n",
    "\n",
    "Ayuda:\n",
    "<code>\n",
    "geo_prop_group[\"nueva columna rank\"] = geo_prop_group.xxxxxxxx.rank(ascending=True)\n",
    "</code>"
   ]
  },
  {
   "cell_type": "code",
   "execution_count": 33,
   "metadata": {},
   "outputs": [],
   "source": [
    "# 3.b.Ranking distancia por barrio\n",
    "geo_prop_group[\"rank_distancia\"] = geo_prop_group.distancia.rank(ascending=True)"
   ]
  },
  {
   "cell_type": "code",
   "execution_count": 34,
   "metadata": {},
   "outputs": [],
   "source": [
    "# 3.b.Ranking precio por barrio\n",
    "geo_prop_group[\"rank_precio\"] = geo_prop_group.precio.rank(ascending=False)"
   ]
  },
  {
   "cell_type": "markdown",
   "metadata": {},
   "source": [
    "Verificamos las nuevas columnas"
   ]
  },
  {
   "cell_type": "code",
   "execution_count": 35,
   "metadata": {},
   "outputs": [
    {
     "data": {
      "text/html": [
       "<div>\n",
       "<style scoped>\n",
       "    .dataframe tbody tr th:only-of-type {\n",
       "        vertical-align: middle;\n",
       "    }\n",
       "\n",
       "    .dataframe tbody tr th {\n",
       "        vertical-align: top;\n",
       "    }\n",
       "\n",
       "    .dataframe thead th {\n",
       "        text-align: right;\n",
       "    }\n",
       "</style>\n",
       "<table border=\"1\" class=\"dataframe\">\n",
       "  <thead>\n",
       "    <tr style=\"text-align: right;\">\n",
       "      <th></th>\n",
       "      <th>precio</th>\n",
       "      <th>distancia</th>\n",
       "      <th>rank_distancia</th>\n",
       "      <th>rank_precio</th>\n",
       "    </tr>\n",
       "    <tr>\n",
       "      <th>place_name</th>\n",
       "      <th></th>\n",
       "      <th></th>\n",
       "      <th></th>\n",
       "      <th></th>\n",
       "    </tr>\n",
       "  </thead>\n",
       "  <tbody>\n",
       "    <tr>\n",
       "      <th>Abasto</th>\n",
       "      <td>1.792157e+05</td>\n",
       "      <td>3366.178150</td>\n",
       "      <td>19.0</td>\n",
       "      <td>49.0</td>\n",
       "    </tr>\n",
       "    <tr>\n",
       "      <th>AgronomÃ­a</th>\n",
       "      <td>1.597952e+05</td>\n",
       "      <td>11496.658313</td>\n",
       "      <td>50.0</td>\n",
       "      <td>56.0</td>\n",
       "    </tr>\n",
       "    <tr>\n",
       "      <th>Almagro</th>\n",
       "      <td>2.383719e+05</td>\n",
       "      <td>4487.683052</td>\n",
       "      <td>23.0</td>\n",
       "      <td>24.0</td>\n",
       "    </tr>\n",
       "    <tr>\n",
       "      <th>Balvanera</th>\n",
       "      <td>1.667908e+05</td>\n",
       "      <td>2428.895604</td>\n",
       "      <td>15.0</td>\n",
       "      <td>53.0</td>\n",
       "    </tr>\n",
       "    <tr>\n",
       "      <th>Barracas</th>\n",
       "      <td>1.924282e+05</td>\n",
       "      <td>2152.119311</td>\n",
       "      <td>11.0</td>\n",
       "      <td>43.0</td>\n",
       "    </tr>\n",
       "    <tr>\n",
       "      <th>...</th>\n",
       "      <td>...</td>\n",
       "      <td>...</td>\n",
       "      <td>...</td>\n",
       "      <td>...</td>\n",
       "    </tr>\n",
       "    <tr>\n",
       "      <th>Villa Riachuelo</th>\n",
       "      <td>1.833333e+05</td>\n",
       "      <td>11034.007945</td>\n",
       "      <td>46.0</td>\n",
       "      <td>48.0</td>\n",
       "    </tr>\n",
       "    <tr>\n",
       "      <th>Villa Santa Rita</th>\n",
       "      <td>2.113846e+05</td>\n",
       "      <td>10786.585585</td>\n",
       "      <td>44.0</td>\n",
       "      <td>34.0</td>\n",
       "    </tr>\n",
       "    <tr>\n",
       "      <th>Villa Soldati</th>\n",
       "      <td>1.310730e+06</td>\n",
       "      <td>7454.006046</td>\n",
       "      <td>34.0</td>\n",
       "      <td>1.0</td>\n",
       "    </tr>\n",
       "    <tr>\n",
       "      <th>Villa Urquiza</th>\n",
       "      <td>3.718531e+05</td>\n",
       "      <td>11397.998812</td>\n",
       "      <td>49.0</td>\n",
       "      <td>12.0</td>\n",
       "    </tr>\n",
       "    <tr>\n",
       "      <th>Villa del Parque</th>\n",
       "      <td>1.855880e+05</td>\n",
       "      <td>11884.076526</td>\n",
       "      <td>53.0</td>\n",
       "      <td>46.0</td>\n",
       "    </tr>\n",
       "  </tbody>\n",
       "</table>\n",
       "<p>62 rows × 4 columns</p>\n",
       "</div>"
      ],
      "text/plain": [
       "                        precio     distancia  rank_distancia  rank_precio\n",
       "place_name                                                               \n",
       "Abasto            1.792157e+05   3366.178150            19.0         49.0\n",
       "AgronomÃ­a        1.597952e+05  11496.658313            50.0         56.0\n",
       "Almagro           2.383719e+05   4487.683052            23.0         24.0\n",
       "Balvanera         1.667908e+05   2428.895604            15.0         53.0\n",
       "Barracas          1.924282e+05   2152.119311            11.0         43.0\n",
       "...                        ...           ...             ...          ...\n",
       "Villa Riachuelo   1.833333e+05  11034.007945            46.0         48.0\n",
       "Villa Santa Rita  2.113846e+05  10786.585585            44.0         34.0\n",
       "Villa Soldati     1.310730e+06   7454.006046            34.0          1.0\n",
       "Villa Urquiza     3.718531e+05  11397.998812            49.0         12.0\n",
       "Villa del Parque  1.855880e+05  11884.076526            53.0         46.0\n",
       "\n",
       "[62 rows x 4 columns]"
      ]
     },
     "execution_count": 35,
     "metadata": {},
     "output_type": "execute_result"
    }
   ],
   "source": [
    "geo_prop_group.loc[:, ['precio','distancia','rank_distancia','rank_precio']]"
   ]
  },
  {
   "cell_type": "markdown",
   "metadata": {},
   "source": [
    "Finalmente, observar si los primeros 10 rankeados de cada promedio son de los mismos barrios.\n",
    "\n",
    "Primero hacerlo sobre el ranking de distancia, y luego sobre el ranking de precios.\n",
    "\n",
    "Ayuda: https://pandas.pydata.org/pandas-docs/version/0.23.4/generated/pandas.DataFrame.sort_values.html"
   ]
  },
  {
   "cell_type": "code",
   "execution_count": 36,
   "metadata": {},
   "outputs": [
    {
     "data": {
      "text/html": [
       "<div>\n",
       "<style scoped>\n",
       "    .dataframe tbody tr th:only-of-type {\n",
       "        vertical-align: middle;\n",
       "    }\n",
       "\n",
       "    .dataframe tbody tr th {\n",
       "        vertical-align: top;\n",
       "    }\n",
       "\n",
       "    .dataframe thead th {\n",
       "        text-align: right;\n",
       "    }\n",
       "</style>\n",
       "<table border=\"1\" class=\"dataframe\">\n",
       "  <thead>\n",
       "    <tr style=\"text-align: right;\">\n",
       "      <th></th>\n",
       "      <th>property_type</th>\n",
       "      <th>country_name</th>\n",
       "      <th>state_name</th>\n",
       "      <th>lat</th>\n",
       "      <th>lon</th>\n",
       "      <th>price</th>\n",
       "      <th>currency</th>\n",
       "      <th>surface_total_in_m2</th>\n",
       "      <th>geometry</th>\n",
       "      <th>distancia_obelisco</th>\n",
       "      <th>precio</th>\n",
       "      <th>distancia</th>\n",
       "      <th>rank_distancia</th>\n",
       "      <th>rank_precio</th>\n",
       "    </tr>\n",
       "    <tr>\n",
       "      <th>place_name</th>\n",
       "      <th></th>\n",
       "      <th></th>\n",
       "      <th></th>\n",
       "      <th></th>\n",
       "      <th></th>\n",
       "      <th></th>\n",
       "      <th></th>\n",
       "      <th></th>\n",
       "      <th></th>\n",
       "      <th></th>\n",
       "      <th></th>\n",
       "      <th></th>\n",
       "      <th></th>\n",
       "      <th></th>\n",
       "    </tr>\n",
       "  </thead>\n",
       "  <tbody>\n",
       "    <tr>\n",
       "      <th>Catalinas</th>\n",
       "      <td>1</td>\n",
       "      <td>1</td>\n",
       "      <td>1</td>\n",
       "      <td>1</td>\n",
       "      <td>1</td>\n",
       "      <td>1</td>\n",
       "      <td>1</td>\n",
       "      <td>1</td>\n",
       "      <td>1</td>\n",
       "      <td>1</td>\n",
       "      <td>550000.000000</td>\n",
       "      <td>634.212781</td>\n",
       "      <td>1.0</td>\n",
       "      <td>6.0</td>\n",
       "    </tr>\n",
       "    <tr>\n",
       "      <th>Centro / Microcentro</th>\n",
       "      <td>190</td>\n",
       "      <td>190</td>\n",
       "      <td>190</td>\n",
       "      <td>190</td>\n",
       "      <td>190</td>\n",
       "      <td>190</td>\n",
       "      <td>190</td>\n",
       "      <td>190</td>\n",
       "      <td>190</td>\n",
       "      <td>190</td>\n",
       "      <td>237368.142105</td>\n",
       "      <td>680.202508</td>\n",
       "      <td>2.0</td>\n",
       "      <td>25.0</td>\n",
       "    </tr>\n",
       "    <tr>\n",
       "      <th>San NicolÃ¡s</th>\n",
       "      <td>118</td>\n",
       "      <td>118</td>\n",
       "      <td>118</td>\n",
       "      <td>118</td>\n",
       "      <td>118</td>\n",
       "      <td>118</td>\n",
       "      <td>118</td>\n",
       "      <td>118</td>\n",
       "      <td>118</td>\n",
       "      <td>118</td>\n",
       "      <td>190561.237288</td>\n",
       "      <td>693.926823</td>\n",
       "      <td>3.0</td>\n",
       "      <td>45.0</td>\n",
       "    </tr>\n",
       "    <tr>\n",
       "      <th>Tribunales</th>\n",
       "      <td>65</td>\n",
       "      <td>65</td>\n",
       "      <td>65</td>\n",
       "      <td>65</td>\n",
       "      <td>65</td>\n",
       "      <td>65</td>\n",
       "      <td>65</td>\n",
       "      <td>65</td>\n",
       "      <td>65</td>\n",
       "      <td>65</td>\n",
       "      <td>198811.830769</td>\n",
       "      <td>836.603422</td>\n",
       "      <td>4.0</td>\n",
       "      <td>37.0</td>\n",
       "    </tr>\n",
       "    <tr>\n",
       "      <th>Retiro</th>\n",
       "      <td>141</td>\n",
       "      <td>141</td>\n",
       "      <td>141</td>\n",
       "      <td>141</td>\n",
       "      <td>141</td>\n",
       "      <td>141</td>\n",
       "      <td>141</td>\n",
       "      <td>141</td>\n",
       "      <td>141</td>\n",
       "      <td>141</td>\n",
       "      <td>412255.000000</td>\n",
       "      <td>839.671966</td>\n",
       "      <td>5.0</td>\n",
       "      <td>11.0</td>\n",
       "    </tr>\n",
       "    <tr>\n",
       "      <th>Monserrat</th>\n",
       "      <td>265</td>\n",
       "      <td>265</td>\n",
       "      <td>265</td>\n",
       "      <td>265</td>\n",
       "      <td>265</td>\n",
       "      <td>265</td>\n",
       "      <td>265</td>\n",
       "      <td>265</td>\n",
       "      <td>265</td>\n",
       "      <td>265</td>\n",
       "      <td>199876.535849</td>\n",
       "      <td>888.232530</td>\n",
       "      <td>6.0</td>\n",
       "      <td>35.0</td>\n",
       "    </tr>\n",
       "    <tr>\n",
       "      <th>ConstituciÃ³n</th>\n",
       "      <td>154</td>\n",
       "      <td>154</td>\n",
       "      <td>154</td>\n",
       "      <td>154</td>\n",
       "      <td>154</td>\n",
       "      <td>154</td>\n",
       "      <td>154</td>\n",
       "      <td>154</td>\n",
       "      <td>154</td>\n",
       "      <td>154</td>\n",
       "      <td>164743.538961</td>\n",
       "      <td>1236.226130</td>\n",
       "      <td>7.0</td>\n",
       "      <td>54.0</td>\n",
       "    </tr>\n",
       "    <tr>\n",
       "      <th>San Telmo</th>\n",
       "      <td>573</td>\n",
       "      <td>573</td>\n",
       "      <td>573</td>\n",
       "      <td>573</td>\n",
       "      <td>573</td>\n",
       "      <td>573</td>\n",
       "      <td>573</td>\n",
       "      <td>573</td>\n",
       "      <td>573</td>\n",
       "      <td>573</td>\n",
       "      <td>506590.057592</td>\n",
       "      <td>1280.499050</td>\n",
       "      <td>8.0</td>\n",
       "      <td>7.0</td>\n",
       "    </tr>\n",
       "    <tr>\n",
       "      <th>Congreso</th>\n",
       "      <td>174</td>\n",
       "      <td>174</td>\n",
       "      <td>174</td>\n",
       "      <td>174</td>\n",
       "      <td>174</td>\n",
       "      <td>174</td>\n",
       "      <td>174</td>\n",
       "      <td>174</td>\n",
       "      <td>174</td>\n",
       "      <td>174</td>\n",
       "      <td>153215.413793</td>\n",
       "      <td>1382.937608</td>\n",
       "      <td>9.0</td>\n",
       "      <td>59.0</td>\n",
       "    </tr>\n",
       "    <tr>\n",
       "      <th>Recoleta</th>\n",
       "      <td>1001</td>\n",
       "      <td>1001</td>\n",
       "      <td>1001</td>\n",
       "      <td>1001</td>\n",
       "      <td>1001</td>\n",
       "      <td>1001</td>\n",
       "      <td>1001</td>\n",
       "      <td>1001</td>\n",
       "      <td>1001</td>\n",
       "      <td>1001</td>\n",
       "      <td>506214.288711</td>\n",
       "      <td>1779.484055</td>\n",
       "      <td>10.0</td>\n",
       "      <td>8.0</td>\n",
       "    </tr>\n",
       "  </tbody>\n",
       "</table>\n",
       "</div>"
      ],
      "text/plain": [
       "                      property_type  country_name  state_name   lat   lon  \\\n",
       "place_name                                                                  \n",
       "Catalinas                         1             1           1     1     1   \n",
       "Centro / Microcentro            190           190         190   190   190   \n",
       "San NicolÃ¡s                    118           118         118   118   118   \n",
       "Tribunales                       65            65          65    65    65   \n",
       "Retiro                          141           141         141   141   141   \n",
       "Monserrat                       265           265         265   265   265   \n",
       "ConstituciÃ³n                   154           154         154   154   154   \n",
       "San Telmo                       573           573         573   573   573   \n",
       "Congreso                        174           174         174   174   174   \n",
       "Recoleta                       1001          1001        1001  1001  1001   \n",
       "\n",
       "                      price  currency  surface_total_in_m2  geometry  \\\n",
       "place_name                                                             \n",
       "Catalinas                 1         1                    1         1   \n",
       "Centro / Microcentro    190       190                  190       190   \n",
       "San NicolÃ¡s            118       118                  118       118   \n",
       "Tribunales               65        65                   65        65   \n",
       "Retiro                  141       141                  141       141   \n",
       "Monserrat               265       265                  265       265   \n",
       "ConstituciÃ³n           154       154                  154       154   \n",
       "San Telmo               573       573                  573       573   \n",
       "Congreso                174       174                  174       174   \n",
       "Recoleta               1001      1001                 1001      1001   \n",
       "\n",
       "                      distancia_obelisco         precio    distancia  \\\n",
       "place_name                                                             \n",
       "Catalinas                              1  550000.000000   634.212781   \n",
       "Centro / Microcentro                 190  237368.142105   680.202508   \n",
       "San NicolÃ¡s                         118  190561.237288   693.926823   \n",
       "Tribunales                            65  198811.830769   836.603422   \n",
       "Retiro                               141  412255.000000   839.671966   \n",
       "Monserrat                            265  199876.535849   888.232530   \n",
       "ConstituciÃ³n                        154  164743.538961  1236.226130   \n",
       "San Telmo                            573  506590.057592  1280.499050   \n",
       "Congreso                             174  153215.413793  1382.937608   \n",
       "Recoleta                            1001  506214.288711  1779.484055   \n",
       "\n",
       "                      rank_distancia  rank_precio  \n",
       "place_name                                         \n",
       "Catalinas                        1.0          6.0  \n",
       "Centro / Microcentro             2.0         25.0  \n",
       "San NicolÃ¡s                     3.0         45.0  \n",
       "Tribunales                       4.0         37.0  \n",
       "Retiro                           5.0         11.0  \n",
       "Monserrat                        6.0         35.0  \n",
       "ConstituciÃ³n                    7.0         54.0  \n",
       "San Telmo                        8.0          7.0  \n",
       "Congreso                         9.0         59.0  \n",
       "Recoleta                        10.0          8.0  "
      ]
     },
     "execution_count": 36,
     "metadata": {},
     "output_type": "execute_result"
    }
   ],
   "source": [
    "# 10 primeros rankeados por distancia\n",
    "geo_prop_group.sort_values(by=\"rank_distancia\").head(10)"
   ]
  },
  {
   "cell_type": "code",
   "execution_count": 37,
   "metadata": {},
   "outputs": [
    {
     "data": {
      "text/html": [
       "<div>\n",
       "<style scoped>\n",
       "    .dataframe tbody tr th:only-of-type {\n",
       "        vertical-align: middle;\n",
       "    }\n",
       "\n",
       "    .dataframe tbody tr th {\n",
       "        vertical-align: top;\n",
       "    }\n",
       "\n",
       "    .dataframe thead th {\n",
       "        text-align: right;\n",
       "    }\n",
       "</style>\n",
       "<table border=\"1\" class=\"dataframe\">\n",
       "  <thead>\n",
       "    <tr style=\"text-align: right;\">\n",
       "      <th></th>\n",
       "      <th>property_type</th>\n",
       "      <th>country_name</th>\n",
       "      <th>state_name</th>\n",
       "      <th>lat</th>\n",
       "      <th>lon</th>\n",
       "      <th>price</th>\n",
       "      <th>currency</th>\n",
       "      <th>surface_total_in_m2</th>\n",
       "      <th>geometry</th>\n",
       "      <th>distancia_obelisco</th>\n",
       "      <th>precio</th>\n",
       "      <th>distancia</th>\n",
       "      <th>rank_distancia</th>\n",
       "      <th>rank_precio</th>\n",
       "    </tr>\n",
       "    <tr>\n",
       "      <th>place_name</th>\n",
       "      <th></th>\n",
       "      <th></th>\n",
       "      <th></th>\n",
       "      <th></th>\n",
       "      <th></th>\n",
       "      <th></th>\n",
       "      <th></th>\n",
       "      <th></th>\n",
       "      <th></th>\n",
       "      <th></th>\n",
       "      <th></th>\n",
       "      <th></th>\n",
       "      <th></th>\n",
       "      <th></th>\n",
       "    </tr>\n",
       "  </thead>\n",
       "  <tbody>\n",
       "    <tr>\n",
       "      <th>Villa Soldati</th>\n",
       "      <td>7</td>\n",
       "      <td>7</td>\n",
       "      <td>7</td>\n",
       "      <td>7</td>\n",
       "      <td>7</td>\n",
       "      <td>7</td>\n",
       "      <td>7</td>\n",
       "      <td>7</td>\n",
       "      <td>7</td>\n",
       "      <td>7</td>\n",
       "      <td>1.310730e+06</td>\n",
       "      <td>7454.006046</td>\n",
       "      <td>34.0</td>\n",
       "      <td>1.0</td>\n",
       "    </tr>\n",
       "    <tr>\n",
       "      <th>NuÃ±ez</th>\n",
       "      <td>384</td>\n",
       "      <td>384</td>\n",
       "      <td>384</td>\n",
       "      <td>384</td>\n",
       "      <td>384</td>\n",
       "      <td>384</td>\n",
       "      <td>384</td>\n",
       "      <td>384</td>\n",
       "      <td>384</td>\n",
       "      <td>384</td>\n",
       "      <td>1.164123e+06</td>\n",
       "      <td>9772.556382</td>\n",
       "      <td>41.0</td>\n",
       "      <td>2.0</td>\n",
       "    </tr>\n",
       "    <tr>\n",
       "      <th>Palermo Chico</th>\n",
       "      <td>146</td>\n",
       "      <td>146</td>\n",
       "      <td>146</td>\n",
       "      <td>146</td>\n",
       "      <td>146</td>\n",
       "      <td>146</td>\n",
       "      <td>146</td>\n",
       "      <td>146</td>\n",
       "      <td>146</td>\n",
       "      <td>146</td>\n",
       "      <td>1.100355e+06</td>\n",
       "      <td>3689.581743</td>\n",
       "      <td>20.0</td>\n",
       "      <td>3.0</td>\n",
       "    </tr>\n",
       "    <tr>\n",
       "      <th>Puerto Madero</th>\n",
       "      <td>364</td>\n",
       "      <td>364</td>\n",
       "      <td>364</td>\n",
       "      <td>364</td>\n",
       "      <td>364</td>\n",
       "      <td>364</td>\n",
       "      <td>364</td>\n",
       "      <td>364</td>\n",
       "      <td>364</td>\n",
       "      <td>364</td>\n",
       "      <td>9.774262e+05</td>\n",
       "      <td>2234.361297</td>\n",
       "      <td>12.0</td>\n",
       "      <td>4.0</td>\n",
       "    </tr>\n",
       "    <tr>\n",
       "      <th>Belgrano</th>\n",
       "      <td>1496</td>\n",
       "      <td>1496</td>\n",
       "      <td>1496</td>\n",
       "      <td>1496</td>\n",
       "      <td>1496</td>\n",
       "      <td>1496</td>\n",
       "      <td>1496</td>\n",
       "      <td>1496</td>\n",
       "      <td>1496</td>\n",
       "      <td>1496</td>\n",
       "      <td>5.778869e+05</td>\n",
       "      <td>8403.113119</td>\n",
       "      <td>37.0</td>\n",
       "      <td>5.0</td>\n",
       "    </tr>\n",
       "    <tr>\n",
       "      <th>Catalinas</th>\n",
       "      <td>1</td>\n",
       "      <td>1</td>\n",
       "      <td>1</td>\n",
       "      <td>1</td>\n",
       "      <td>1</td>\n",
       "      <td>1</td>\n",
       "      <td>1</td>\n",
       "      <td>1</td>\n",
       "      <td>1</td>\n",
       "      <td>1</td>\n",
       "      <td>5.500000e+05</td>\n",
       "      <td>634.212781</td>\n",
       "      <td>1.0</td>\n",
       "      <td>6.0</td>\n",
       "    </tr>\n",
       "    <tr>\n",
       "      <th>San Telmo</th>\n",
       "      <td>573</td>\n",
       "      <td>573</td>\n",
       "      <td>573</td>\n",
       "      <td>573</td>\n",
       "      <td>573</td>\n",
       "      <td>573</td>\n",
       "      <td>573</td>\n",
       "      <td>573</td>\n",
       "      <td>573</td>\n",
       "      <td>573</td>\n",
       "      <td>5.065901e+05</td>\n",
       "      <td>1280.499050</td>\n",
       "      <td>8.0</td>\n",
       "      <td>7.0</td>\n",
       "    </tr>\n",
       "    <tr>\n",
       "      <th>Recoleta</th>\n",
       "      <td>1001</td>\n",
       "      <td>1001</td>\n",
       "      <td>1001</td>\n",
       "      <td>1001</td>\n",
       "      <td>1001</td>\n",
       "      <td>1001</td>\n",
       "      <td>1001</td>\n",
       "      <td>1001</td>\n",
       "      <td>1001</td>\n",
       "      <td>1001</td>\n",
       "      <td>5.062143e+05</td>\n",
       "      <td>1779.484055</td>\n",
       "      <td>10.0</td>\n",
       "      <td>8.0</td>\n",
       "    </tr>\n",
       "    <tr>\n",
       "      <th>Boedo</th>\n",
       "      <td>278</td>\n",
       "      <td>278</td>\n",
       "      <td>278</td>\n",
       "      <td>278</td>\n",
       "      <td>278</td>\n",
       "      <td>278</td>\n",
       "      <td>278</td>\n",
       "      <td>278</td>\n",
       "      <td>278</td>\n",
       "      <td>278</td>\n",
       "      <td>4.437263e+05</td>\n",
       "      <td>4146.008502</td>\n",
       "      <td>22.0</td>\n",
       "      <td>9.0</td>\n",
       "    </tr>\n",
       "    <tr>\n",
       "      <th>Palermo</th>\n",
       "      <td>1502</td>\n",
       "      <td>1502</td>\n",
       "      <td>1502</td>\n",
       "      <td>1502</td>\n",
       "      <td>1502</td>\n",
       "      <td>1502</td>\n",
       "      <td>1502</td>\n",
       "      <td>1502</td>\n",
       "      <td>1502</td>\n",
       "      <td>1502</td>\n",
       "      <td>4.161872e+05</td>\n",
       "      <td>4957.171991</td>\n",
       "      <td>25.0</td>\n",
       "      <td>10.0</td>\n",
       "    </tr>\n",
       "  </tbody>\n",
       "</table>\n",
       "</div>"
      ],
      "text/plain": [
       "               property_type  country_name  state_name   lat   lon  price  \\\n",
       "place_name                                                                  \n",
       "Villa Soldati              7             7           7     7     7      7   \n",
       "NuÃ±ez                   384           384         384   384   384    384   \n",
       "Palermo Chico            146           146         146   146   146    146   \n",
       "Puerto Madero            364           364         364   364   364    364   \n",
       "Belgrano                1496          1496        1496  1496  1496   1496   \n",
       "Catalinas                  1             1           1     1     1      1   \n",
       "San Telmo                573           573         573   573   573    573   \n",
       "Recoleta                1001          1001        1001  1001  1001   1001   \n",
       "Boedo                    278           278         278   278   278    278   \n",
       "Palermo                 1502          1502        1502  1502  1502   1502   \n",
       "\n",
       "               currency  surface_total_in_m2  geometry  distancia_obelisco  \\\n",
       "place_name                                                                   \n",
       "Villa Soldati         7                    7         7                   7   \n",
       "NuÃ±ez              384                  384       384                 384   \n",
       "Palermo Chico       146                  146       146                 146   \n",
       "Puerto Madero       364                  364       364                 364   \n",
       "Belgrano           1496                 1496      1496                1496   \n",
       "Catalinas             1                    1         1                   1   \n",
       "San Telmo           573                  573       573                 573   \n",
       "Recoleta           1001                 1001      1001                1001   \n",
       "Boedo               278                  278       278                 278   \n",
       "Palermo            1502                 1502      1502                1502   \n",
       "\n",
       "                     precio    distancia  rank_distancia  rank_precio  \n",
       "place_name                                                             \n",
       "Villa Soldati  1.310730e+06  7454.006046            34.0          1.0  \n",
       "NuÃ±ez         1.164123e+06  9772.556382            41.0          2.0  \n",
       "Palermo Chico  1.100355e+06  3689.581743            20.0          3.0  \n",
       "Puerto Madero  9.774262e+05  2234.361297            12.0          4.0  \n",
       "Belgrano       5.778869e+05  8403.113119            37.0          5.0  \n",
       "Catalinas      5.500000e+05   634.212781             1.0          6.0  \n",
       "San Telmo      5.065901e+05  1280.499050             8.0          7.0  \n",
       "Recoleta       5.062143e+05  1779.484055            10.0          8.0  \n",
       "Boedo          4.437263e+05  4146.008502            22.0          9.0  \n",
       "Palermo        4.161872e+05  4957.171991            25.0         10.0  "
      ]
     },
     "execution_count": 37,
     "metadata": {},
     "output_type": "execute_result"
    }
   ],
   "source": [
    "# 10 primeros rankeados por precio\n",
    "geo_prop_group.sort_values(by=\"rank_precio\").head(10)"
   ]
  },
  {
   "cell_type": "markdown",
   "metadata": {},
   "source": [
    "### Parte 4 - Línea que una a las estaciones de subte\n",
    "\n",
    "Vamos a hacer una línea geométrica con las estaciones de subte de la línea H y graficarla sobre la ciudad.\n",
    "\n",
    "<div>\n",
    "    <div class = \"mapa\">\n",
    "        <img src='img/M1_Clase_07_1_desafio.jpg' alt=\"Elementos geométricos\" width=80% height=90%>\n",
    "    </div>\n",
    "</div>"
   ]
  },
  {
   "cell_type": "code",
   "execution_count": 38,
   "metadata": {},
   "outputs": [
    {
     "data": {
      "text/html": [
       "<div>\n",
       "<style scoped>\n",
       "    .dataframe tbody tr th:only-of-type {\n",
       "        vertical-align: middle;\n",
       "    }\n",
       "\n",
       "    .dataframe tbody tr th {\n",
       "        vertical-align: top;\n",
       "    }\n",
       "\n",
       "    .dataframe thead th {\n",
       "        text-align: right;\n",
       "    }\n",
       "</style>\n",
       "<table border=\"1\" class=\"dataframe\">\n",
       "  <thead>\n",
       "    <tr style=\"text-align: right;\">\n",
       "      <th></th>\n",
       "      <th>long</th>\n",
       "      <th>lat</th>\n",
       "      <th>id</th>\n",
       "      <th>estacion</th>\n",
       "      <th>linea</th>\n",
       "      <th>geometry</th>\n",
       "    </tr>\n",
       "  </thead>\n",
       "  <tbody>\n",
       "    <tr>\n",
       "      <th>0</th>\n",
       "      <td>-58.398928</td>\n",
       "      <td>-34.635750</td>\n",
       "      <td>1.0</td>\n",
       "      <td>CASEROS</td>\n",
       "      <td>H</td>\n",
       "      <td>POINT (-58.39893 -34.63575)</td>\n",
       "    </tr>\n",
       "    <tr>\n",
       "      <th>1</th>\n",
       "      <td>-58.400970</td>\n",
       "      <td>-34.629376</td>\n",
       "      <td>2.0</td>\n",
       "      <td>INCLAN - MEZQUITA AL AHMAD</td>\n",
       "      <td>H</td>\n",
       "      <td>POINT (-58.40097 -34.62938)</td>\n",
       "    </tr>\n",
       "    <tr>\n",
       "      <th>2</th>\n",
       "      <td>-58.402323</td>\n",
       "      <td>-34.623092</td>\n",
       "      <td>3.0</td>\n",
       "      <td>HUMBERTO 1°</td>\n",
       "      <td>H</td>\n",
       "      <td>POINT (-58.40232 -34.62309)</td>\n",
       "    </tr>\n",
       "    <tr>\n",
       "      <th>3</th>\n",
       "      <td>-58.404732</td>\n",
       "      <td>-34.615242</td>\n",
       "      <td>4.0</td>\n",
       "      <td>VENEZUELA</td>\n",
       "      <td>H</td>\n",
       "      <td>POINT (-58.40473 -34.61524)</td>\n",
       "    </tr>\n",
       "  </tbody>\n",
       "</table>\n",
       "</div>"
      ],
      "text/plain": [
       "        long        lat   id                    estacion linea  \\\n",
       "0 -58.398928 -34.635750  1.0                     CASEROS     H   \n",
       "1 -58.400970 -34.629376  2.0  INCLAN - MEZQUITA AL AHMAD     H   \n",
       "2 -58.402323 -34.623092  3.0                 HUMBERTO 1°     H   \n",
       "3 -58.404732 -34.615242  4.0                   VENEZUELA     H   \n",
       "\n",
       "                      geometry  \n",
       "0  POINT (-58.39893 -34.63575)  \n",
       "1  POINT (-58.40097 -34.62938)  \n",
       "2  POINT (-58.40232 -34.62309)  \n",
       "3  POINT (-58.40473 -34.61524)  "
      ]
     },
     "execution_count": 38,
     "metadata": {},
     "output_type": "execute_result"
    }
   ],
   "source": [
    "geo_subte.head(4)"
   ]
  },
  {
   "cell_type": "markdown",
   "metadata": {},
   "source": [
    "Primero seleccionemos solo las estaciones de la linea H, y guardamos la selección en la variable geo_subte_h."
   ]
  },
  {
   "cell_type": "code",
   "execution_count": 39,
   "metadata": {},
   "outputs": [],
   "source": [
    "geo_subte_h = geo_subte.loc[geo_subte.linea =='H', :]"
   ]
  },
  {
   "cell_type": "code",
   "execution_count": 40,
   "metadata": {},
   "outputs": [
    {
     "data": {
      "text/html": [
       "<div>\n",
       "<style scoped>\n",
       "    .dataframe tbody tr th:only-of-type {\n",
       "        vertical-align: middle;\n",
       "    }\n",
       "\n",
       "    .dataframe tbody tr th {\n",
       "        vertical-align: top;\n",
       "    }\n",
       "\n",
       "    .dataframe thead th {\n",
       "        text-align: right;\n",
       "    }\n",
       "</style>\n",
       "<table border=\"1\" class=\"dataframe\">\n",
       "  <thead>\n",
       "    <tr style=\"text-align: right;\">\n",
       "      <th></th>\n",
       "      <th>long</th>\n",
       "      <th>lat</th>\n",
       "      <th>id</th>\n",
       "      <th>estacion</th>\n",
       "      <th>linea</th>\n",
       "      <th>geometry</th>\n",
       "    </tr>\n",
       "  </thead>\n",
       "  <tbody>\n",
       "    <tr>\n",
       "      <th>0</th>\n",
       "      <td>-58.398928</td>\n",
       "      <td>-34.635750</td>\n",
       "      <td>1.0</td>\n",
       "      <td>CASEROS</td>\n",
       "      <td>H</td>\n",
       "      <td>POINT (-58.39893 -34.63575)</td>\n",
       "    </tr>\n",
       "    <tr>\n",
       "      <th>1</th>\n",
       "      <td>-58.400970</td>\n",
       "      <td>-34.629376</td>\n",
       "      <td>2.0</td>\n",
       "      <td>INCLAN - MEZQUITA AL AHMAD</td>\n",
       "      <td>H</td>\n",
       "      <td>POINT (-58.40097 -34.62938)</td>\n",
       "    </tr>\n",
       "    <tr>\n",
       "      <th>2</th>\n",
       "      <td>-58.402323</td>\n",
       "      <td>-34.623092</td>\n",
       "      <td>3.0</td>\n",
       "      <td>HUMBERTO 1°</td>\n",
       "      <td>H</td>\n",
       "      <td>POINT (-58.40232 -34.62309)</td>\n",
       "    </tr>\n",
       "    <tr>\n",
       "      <th>3</th>\n",
       "      <td>-58.404732</td>\n",
       "      <td>-34.615242</td>\n",
       "      <td>4.0</td>\n",
       "      <td>VENEZUELA</td>\n",
       "      <td>H</td>\n",
       "      <td>POINT (-58.40473 -34.61524)</td>\n",
       "    </tr>\n",
       "    <tr>\n",
       "      <th>4</th>\n",
       "      <td>-58.406036</td>\n",
       "      <td>-34.608935</td>\n",
       "      <td>5.0</td>\n",
       "      <td>ONCE - 30 DE DICIEMBRE</td>\n",
       "      <td>H</td>\n",
       "      <td>POINT (-58.40604 -34.60894)</td>\n",
       "    </tr>\n",
       "    <tr>\n",
       "      <th>76</th>\n",
       "      <td>-58.405450</td>\n",
       "      <td>-34.604490</td>\n",
       "      <td>77.0</td>\n",
       "      <td>CORRIENTES</td>\n",
       "      <td>H</td>\n",
       "      <td>POINT (-58.40545 -34.60449)</td>\n",
       "    </tr>\n",
       "    <tr>\n",
       "      <th>77</th>\n",
       "      <td>-58.405795</td>\n",
       "      <td>-34.638406</td>\n",
       "      <td>78.0</td>\n",
       "      <td>PARQUE PATRICIOS</td>\n",
       "      <td>H</td>\n",
       "      <td>POINT (-58.40579 -34.63841)</td>\n",
       "    </tr>\n",
       "    <tr>\n",
       "      <th>78</th>\n",
       "      <td>-58.412385</td>\n",
       "      <td>-34.641269</td>\n",
       "      <td>79.0</td>\n",
       "      <td>HOSPITALES</td>\n",
       "      <td>H</td>\n",
       "      <td>POINT (-58.41239 -34.64127)</td>\n",
       "    </tr>\n",
       "    <tr>\n",
       "      <th>83</th>\n",
       "      <td>-58.403721</td>\n",
       "      <td>-34.598455</td>\n",
       "      <td>84.0</td>\n",
       "      <td>CÓRDOBA</td>\n",
       "      <td>H</td>\n",
       "      <td>POINT (-58.40372 -34.59846)</td>\n",
       "    </tr>\n",
       "    <tr>\n",
       "      <th>84</th>\n",
       "      <td>-58.397216</td>\n",
       "      <td>-34.587462</td>\n",
       "      <td>85.0</td>\n",
       "      <td>LAS HERAS</td>\n",
       "      <td>H</td>\n",
       "      <td>POINT (-58.39722 -34.58746)</td>\n",
       "    </tr>\n",
       "    <tr>\n",
       "      <th>85</th>\n",
       "      <td>-58.402376</td>\n",
       "      <td>-34.594525</td>\n",
       "      <td>86.0</td>\n",
       "      <td>SANTA FE - CARLOS JAUREGUI</td>\n",
       "      <td>H</td>\n",
       "      <td>POINT (-58.40238 -34.59453)</td>\n",
       "    </tr>\n",
       "    <tr>\n",
       "      <th>86</th>\n",
       "      <td>-58.391019</td>\n",
       "      <td>-34.583036</td>\n",
       "      <td>87.0</td>\n",
       "      <td>FACULTAD DE DERECHO - JULIETA LANTERI</td>\n",
       "      <td>H</td>\n",
       "      <td>POINT (-58.39102 -34.58304)</td>\n",
       "    </tr>\n",
       "  </tbody>\n",
       "</table>\n",
       "</div>"
      ],
      "text/plain": [
       "         long        lat    id                               estacion linea  \\\n",
       "0  -58.398928 -34.635750   1.0                                CASEROS     H   \n",
       "1  -58.400970 -34.629376   2.0             INCLAN - MEZQUITA AL AHMAD     H   \n",
       "2  -58.402323 -34.623092   3.0                            HUMBERTO 1°     H   \n",
       "3  -58.404732 -34.615242   4.0                              VENEZUELA     H   \n",
       "4  -58.406036 -34.608935   5.0                 ONCE - 30 DE DICIEMBRE     H   \n",
       "76 -58.405450 -34.604490  77.0                             CORRIENTES     H   \n",
       "77 -58.405795 -34.638406  78.0                       PARQUE PATRICIOS     H   \n",
       "78 -58.412385 -34.641269  79.0                             HOSPITALES     H   \n",
       "83 -58.403721 -34.598455  84.0                                CÓRDOBA     H   \n",
       "84 -58.397216 -34.587462  85.0                              LAS HERAS     H   \n",
       "85 -58.402376 -34.594525  86.0             SANTA FE - CARLOS JAUREGUI     H   \n",
       "86 -58.391019 -34.583036  87.0  FACULTAD DE DERECHO - JULIETA LANTERI     H   \n",
       "\n",
       "                       geometry  \n",
       "0   POINT (-58.39893 -34.63575)  \n",
       "1   POINT (-58.40097 -34.62938)  \n",
       "2   POINT (-58.40232 -34.62309)  \n",
       "3   POINT (-58.40473 -34.61524)  \n",
       "4   POINT (-58.40604 -34.60894)  \n",
       "76  POINT (-58.40545 -34.60449)  \n",
       "77  POINT (-58.40579 -34.63841)  \n",
       "78  POINT (-58.41239 -34.64127)  \n",
       "83  POINT (-58.40372 -34.59846)  \n",
       "84  POINT (-58.39722 -34.58746)  \n",
       "85  POINT (-58.40238 -34.59453)  \n",
       "86  POINT (-58.39102 -34.58304)  "
      ]
     },
     "execution_count": 40,
     "metadata": {},
     "output_type": "execute_result"
    }
   ],
   "source": [
    "geo_subte_h"
   ]
  },
  {
   "cell_type": "markdown",
   "metadata": {},
   "source": [
    "Como muestra el dibujo, la línea corre de Norte a Sur (o Sur a Norte). Como las estaciones deben estar alineadas para que salga bien la línea, podemos usar la columna lat para ordenarlas; lat es la latitud de cada estación.\n",
    "\n",
    "Ayuda: considerar sort_values con by\n",
    "https://pandas.pydata.org/pandas-docs/stable/reference/api/pandas.DataFrame.sort_values.html"
   ]
  },
  {
   "cell_type": "code",
   "execution_count": null,
   "metadata": {},
   "outputs": [],
   "source": [
    "geo_subte_h = geo_subte_h.sort_values(by='lat')"
   ]
  },
  {
   "cell_type": "code",
   "execution_count": null,
   "metadata": {},
   "outputs": [],
   "source": [
    "geo_subte_h"
   ]
  },
  {
   "cell_type": "markdown",
   "metadata": {},
   "source": [
    "Para simplificar la codificación, solo nos quedaremos con los datos geográficos de cada estación.\n",
    "\n",
    "Generamos una *GeoSeries* con la columna geometry de geo_subte_h. Y la llamamos geo_subte_h_geometry."
   ]
  },
  {
   "cell_type": "code",
   "execution_count": null,
   "metadata": {},
   "outputs": [],
   "source": [
    "geo_subte_h_geometry = geo_subte_h[\"geometry\"]"
   ]
  },
  {
   "cell_type": "code",
   "execution_count": null,
   "metadata": {},
   "outputs": [],
   "source": [
    "type(geo_subte_h_geometry)"
   ]
  },
  {
   "cell_type": "markdown",
   "metadata": {},
   "source": [
    "Ahora creamos las líneas que unen a las estaciones de subte. \n",
    "\n",
    "Cada línea se forma con **dos puntos**. Por lo tanto, tenemos que tomar el primer y segundo punto de la Geoserie, y aplicarles el método <code>LineString</code>. Luego seguimos con el segundo y el tercero, y así siguiendo."
   ]
  },
  {
   "cell_type": "markdown",
   "metadata": {},
   "source": [
    "*Primero creamos una lista donde guardaremos cada linea.* La llamamos linea_h. Debe tener una longitud igual a la cantidad de estaciones menos 1, es decir longitud 11."
   ]
  },
  {
   "cell_type": "code",
   "execution_count": null,
   "metadata": {},
   "outputs": [],
   "source": [
    "longitud_linea = len(geo_subte_h_geometry)-1\n",
    "linea_h = list(range(longitud_linea))"
   ]
  },
  {
   "cell_type": "code",
   "execution_count": null,
   "metadata": {},
   "outputs": [],
   "source": [
    "len(linea_h)"
   ]
  },
  {
   "cell_type": "markdown",
   "metadata": {},
   "source": [
    "Ahora podemos crear las líneas y guardarlas en la lista.\n",
    "\n",
    "Se debe generar **una iteración** para recorrer la GeoSerie *geo_subte_h_geometry*.\n",
    "\n",
    "Ayuda:\n",
    "<code>\n",
    "for i in range(longitud_linea): \n",
    "    linea_h[i] = creo la linea entre el elemento i y el elemento i+1\n",
    "</code> \n",
    "    \n",
    "El cálculo se realiza con el método <code>LineString</code> de la libreria shapely, el cual se explica en la notebook 3_geopandas_operaciones."
   ]
  },
  {
   "cell_type": "code",
   "execution_count": null,
   "metadata": {},
   "outputs": [],
   "source": [
    "from shapely.geometry import LineString\n",
    "\n",
    "for i in range(longitud_linea): \n",
    "    linea_h[i] = LineString([geo_subte_h_geometry.iloc[i], geo_subte_h_geometry.iloc[i+1]])"
   ]
  },
  {
   "cell_type": "markdown",
   "metadata": {},
   "source": [
    "---\n",
    "\n",
    "Ahora vamos a graficar las líneas sobre un mapa con los barrios de Buenos Aires.\n",
    "\n",
    "Vamos a leer los datos del archivo /M1/CLASE_07/Data/barrios.csv en un `DataFrame` de pandas con el método `read_csv`. Lo llamaremos df_barrios."
   ]
  },
  {
   "cell_type": "code",
   "execution_count": null,
   "metadata": {},
   "outputs": [],
   "source": [
    "df_barrios = pd.read_csv(\"../Data/barrios.csv\", encoding='latin1')"
   ]
  },
  {
   "cell_type": "markdown",
   "metadata": {},
   "source": [
    "---\n",
    "\n",
    "Y luego generamos un GeoDataFrame de los barrios a partir del Dataframe. En este caso, la columna WKT ya contiene una forma geométrica **polígono** que representa el contorno de cada barrio. Pero en un formato WKT, que no permite generar un GeoDataFrame. Por lo tanto, lo tenemos que convertir a un formato *geometry*."
   ]
  },
  {
   "cell_type": "code",
   "execution_count": null,
   "metadata": {},
   "outputs": [],
   "source": [
    "import shapely.wkt\n",
    "\n",
    "df_barrios[\"WKT\"] = df_barrios[\"WKT\"].apply(shapely.wkt.loads) \n",
    "geo_barrios = gpd.GeoDataFrame(df_barrios, geometry='WKT')"
   ]
  },
  {
   "cell_type": "markdown",
   "metadata": {},
   "source": [
    "Por otra parte, necesitamos para graficar las líneas generar una GeoSerie donde cada elemento se compone de dos puntos y la línea entre ellos."
   ]
  },
  {
   "cell_type": "code",
   "execution_count": null,
   "metadata": {},
   "outputs": [],
   "source": [
    "linea_h_geo = list(range(longitud_linea))\n",
    "\n",
    "for i in range(longitud_linea): \n",
    "    linea_h_geo[i] = gpd.GeoSeries([geo_subte_h_geometry.iloc[i], geo_subte_h_geometry.iloc[i+1], linea_h[i]])"
   ]
  },
  {
   "cell_type": "markdown",
   "metadata": {},
   "source": [
    "Con el método plot generamos el gráfico:"
   ]
  },
  {
   "cell_type": "code",
   "execution_count": null,
   "metadata": {},
   "outputs": [],
   "source": [
    "fig, ax = plt.subplots()\n",
    "ax.set_aspect('equal')\n",
    "geo_barrios.plot(ax=ax, color='white', edgecolor='black')\n",
    "\n",
    "for i in range(len(geo_subte_h_geometry)-2): \n",
    "    linea_h_geo[i].plot(ax=ax, color='red')\n",
    "\n",
    "plt.show();"
   ]
  },
  {
   "cell_type": "code",
   "execution_count": null,
   "metadata": {},
   "outputs": [],
   "source": []
  }
 ],
 "metadata": {
  "kernelspec": {
   "display_name": "Python 3.7.13 ('dhdsblend2021_geopandas')",
   "language": "python",
   "name": "python3"
  },
  "language_info": {
   "codemirror_mode": {
    "name": "ipython",
    "version": 3
   },
   "file_extension": ".py",
   "mimetype": "text/x-python",
   "name": "python",
   "nbconvert_exporter": "python",
   "pygments_lexer": "ipython3",
   "version": "3.7.13"
  },
  "vscode": {
   "interpreter": {
    "hash": "ad9de4c686033d61ec4a9041c872ad5175ac13a3abade902ac254c5065dba19e"
   }
  }
 },
 "nbformat": 4,
 "nbformat_minor": 4
}
