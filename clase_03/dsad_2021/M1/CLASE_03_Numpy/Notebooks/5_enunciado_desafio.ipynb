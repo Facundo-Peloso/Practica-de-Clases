{
 "cells": [
  {
   "cell_type": "code",
   "execution_count": 3,
   "metadata": {},
   "outputs": [
    {
     "name": "stdout",
     "output_type": "stream",
     "text": [
      "c:\\Users\\fpeloso\\Digital House\\Prácticas mías\\Practica-de-Clases\\clase_03\\dsad_2021\\common\n",
      "default checking\n",
      "Running command `conda list`... ok\n",
      "jupyterlab=2.2.6 already installed\n",
      "pandas=1.1.5 already installed\n",
      "bokeh=2.2.3 already installed\n",
      "seaborn=0.11.0 already installed\n",
      "matplotlib=3.3.2 already installed\n",
      "ipywidgets=7.5.1 already installed\n",
      "pytest=6.2.1 already installed\n",
      "chardet=4.0.0 already installed\n",
      "psutil=5.7.2 already installed\n",
      "scipy=1.5.2 already installed\n",
      "statsmodels=0.12.1 already installed\n",
      "scikit-learn=0.23.2 already installed\n",
      "xlrd=2.0.1 already installed\n",
      "Running command `conda install --yes nltk=3.5.0`... ok\n",
      "Collecting package metadata (current_repodata.json): ...working... done\n",
      "Solving environment: ...working... done\n",
      "\n",
      "# All requested packages already installed.\n",
      "\n",
      "\n",
      "unidecode=1.1.1 already installed\n",
      "pydotplus=2.0.2 already installed\n",
      "pandas-datareader=0.9.0 already installed\n",
      "flask=1.1.2 already installed\n"
     ]
    }
   ],
   "source": [
    "# settings local:\n",
    "%run \"../../../common/0_notebooks_base_setup.py\"   "
   ]
  },
  {
   "cell_type": "markdown",
   "metadata": {},
   "source": [
    "---\n",
    "\n",
    "<img src='../../../common/logo_DH.png' align='left' width=35%/>\n"
   ]
  },
  {
   "cell_type": "markdown",
   "metadata": {},
   "source": [
    "En la práctica de la clase de hoy usaremos un dataset de Kaggle que tiene datos de ventas:\n",
    "\n",
    "https://www.kaggle.com/kyanyoga/sample-sales-data\n",
    "\n",
    "Ustedes tienen un subconjunto de los datos disponibles, que usaremos para resolver ejercicios de Numpy."
   ]
  },
  {
   "cell_type": "markdown",
   "metadata": {},
   "source": [
    "## Ejercicio 1\n",
    "\n",
    "Leer los datos del archivo /M1/CLASE_03_Numpy/Data/sales_data_sample_excercise.csv\n",
    "\n",
    "Este archivo tiene algunos datos numéricos y otros de tipo cadena de caracteres. \n",
    "\n",
    "Las columnas son:\n",
    "\n",
    "* ORDERNUMBER: int, id de la orden\n",
    "\n",
    "* SALES: float, monto abonado\n",
    "\n",
    "* MONTH_ID: int, mes\n",
    "\n",
    "* YEAR_ID: int, año\n",
    "\n",
    "* PRODUCTLINE: str, producto\n",
    "\n",
    "* COUNTRY: str, país de venta\n",
    "\n",
    "¿Recuerdan que todos los elementos de una instancia de ndarray deben ser del mismo tipo? Entonces vamos a leer el archivo y crear una instancia de ndarray de tipo cadena de caracteres.\n",
    "\n",
    "¿Qué pasaría si intentáramos crear una instancia de tipo int? ¿Y de tipo float?\n"
   ]
  },
  {
   "cell_type": "code",
   "execution_count": 4,
   "metadata": {},
   "outputs": [],
   "source": [
    "import numpy as np\n",
    "\n",
    "# local:\n",
    "data_location = '../Data/sales_data_sample_excercise.csv'\n",
    "\n",
    "#datos=np.genfromtxt(data_location,delimiter='\\t', dtype=str)"
   ]
  },
  {
   "cell_type": "markdown",
   "metadata": {},
   "source": [
    "## Ejercicio 2\n",
    "\n",
    "Crear un array numérico que tenga como valores las columna SALES y otro array de str que tenga como valores la columna COUNTRY\n",
    "\n",
    "Ayuda: https://docs.scipy.org/doc/numpy/reference/generated/numpy.ndarray.astype.html"
   ]
  },
  {
   "cell_type": "code",
   "execution_count": 5,
   "metadata": {},
   "outputs": [
    {
     "name": "stdout",
     "output_type": "stream",
     "text": [
      "[2871.   2765.9  3884.34 ... 5417.57 2116.16 3079.44]\n",
      "['USA' 'France' 'France' ... 'Spain' 'France' 'USA']\n"
     ]
    }
   ],
   "source": [
    "datos = np.genfromtxt(data_location, skip_header=1, delimiter='\\t', dtype= str)\n",
    "\n",
    "ventas_vector_str = datos[:, 1]\n",
    "ventas_vector =  ventas_vector_str.astype(np.float)\n",
    "print(ventas_vector)\n",
    "\n",
    "paises_vector = datos[:, 5]\n",
    "print(paises_vector)\n"
   ]
  },
  {
   "cell_type": "markdown",
   "metadata": {},
   "source": [
    "## Ejercicio 3\n",
    "\n",
    "¿Cuál fue el monto mínimo de una venta? ¿Cuál fue el monto máximo?"
   ]
  },
  {
   "cell_type": "code",
   "execution_count": 6,
   "metadata": {},
   "outputs": [
    {
     "name": "stdout",
     "output_type": "stream",
     "text": [
      "482.13\n",
      "14082.8\n"
     ]
    }
   ],
   "source": [
    "print(np.min(ventas_vector))\n",
    "print(np.max(ventas_vector))"
   ]
  },
  {
   "cell_type": "markdown",
   "metadata": {},
   "source": [
    "## Ejercicio 4\n",
    "\n",
    "¿Cuántas ventas se hicieron en Spain?\n",
    "\n",
    "Ayuda: boolean indexing\n"
   ]
  },
  {
   "cell_type": "code",
   "execution_count": 7,
   "metadata": {},
   "outputs": [
    {
     "data": {
      "text/plain": [
       "342"
      ]
     },
     "execution_count": 7,
     "metadata": {},
     "output_type": "execute_result"
    }
   ],
   "source": [
    "mask=paises_vector =='Spain'\n",
    "españa_ventas=paises_vector[mask]\n",
    "np.size(españa_ventas)"
   ]
  },
  {
   "cell_type": "markdown",
   "metadata": {},
   "source": [
    "## Ejercicio 5\n",
    "\n",
    "¿Qué porcentaje de las ventas se hicieron en Spain?\n"
   ]
  },
  {
   "cell_type": "code",
   "execution_count": 8,
   "metadata": {},
   "outputs": [
    {
     "name": "stdout",
     "output_type": "stream",
     "text": [
      "0.12117331740025447\n"
     ]
    }
   ],
   "source": [
    "#print(np.size(españa_ventas)/np.size(paises_vector))\n",
    "total_españa=np.sum(ventas_vector[mask])\n",
    "total_ventas=np.sum(ventas_vector)\n",
    "\n",
    "print(total_españa/total_ventas)\n"
   ]
  },
  {
   "cell_type": "markdown",
   "metadata": {},
   "source": [
    "## Ejercicio 6\n",
    "\n",
    "¿Cuál es el país de la venta de precio máximo? ¿Cuál es el id de esa venta?\n",
    "\n",
    "Ayuda: boolean indexing"
   ]
  },
  {
   "cell_type": "code",
   "execution_count": 9,
   "metadata": {},
   "outputs": [
    {
     "name": "stdout",
     "output_type": "stream",
     "text": [
      "['USA']\n",
      "['10407']\n"
     ]
    }
   ],
   "source": [
    "precio_max=np.max(ventas_vector)\n",
    "mask2=ventas_vector==precio_max\n",
    "\n",
    "print(paises_vector[mask2])\n",
    "\n",
    "ID_vector_str = datos[:, 0]\n",
    "\n",
    "print(ID_vector_str[mask2])\n"
   ]
  },
  {
   "cell_type": "markdown",
   "metadata": {},
   "source": [
    "## Ejercicio 7\n",
    "\n",
    "¿Cuál es el precio promedio de ventas en France? ¿Cuál es el desvío?"
   ]
  },
  {
   "cell_type": "code",
   "execution_count": 10,
   "metadata": {},
   "outputs": [
    {
     "name": "stdout",
     "output_type": "stream",
     "text": [
      "3537.9507006369427\n",
      "1939.214360481481\n"
     ]
    }
   ],
   "source": [
    "maskF= paises_vector =='France'\n",
    "francia_ventas=ventas_vector[maskF]\n",
    "\n",
    "print(np.mean(francia_ventas))\n",
    "print(np.std(francia_ventas))"
   ]
  },
  {
   "cell_type": "markdown",
   "metadata": {},
   "source": [
    "## Ejercicio 8\n",
    "\n",
    "¿Cuál fue el año con máximo desvío en las ventas en France?\n",
    "\n",
    "Ayuda: https://docs.scipy.org/doc/numpy/reference/generated/numpy.unique.html"
   ]
  },
  {
   "cell_type": "code",
   "execution_count": 48,
   "metadata": {},
   "outputs": [
    {
     "name": "stdout",
     "output_type": "stream",
     "text": [
      "[2003 2004 2005]\n",
      "[1860.7718844747073, 1837.8438485766644, 2241.7723043613423]\n",
      "[2005]\n",
      "<class 'numpy.ndarray'>\n"
     ]
    }
   ],
   "source": [
    "#en francia_ventas tengo todos los años, tengo que separar en distintos vectores \n",
    "#mascara donde esta francia\n",
    "data_france_mask = paises_vector == 'France'\n",
    "#aplico mascara al vector de ventas\n",
    "data_france_sales = datos[data_france_mask, 1]\n",
    "#aplico mascara al vector de años\n",
    "data_france_years = datos[data_france_mask, 3]\n",
    "\n",
    "#convierto los años en numeros\n",
    "data_france_years_num = data_france_years.astype(np.int)\n",
    "\n",
    "#me devuelve los valores unicos de años\n",
    "years_unique = np.unique(data_france_years_num)\n",
    "print(years_unique)\n",
    "\n",
    "#crea una lista vacia\n",
    "desvios = []\n",
    "#recorro cada año en la lista de años unicos\n",
    "for year in years_unique:\n",
    "    #creo una mascara para cada año\n",
    "    years_vector_mask = data_france_years_num == year\n",
    "    #aplico la mascara de dicho año al vector de ventas\n",
    "    precios_year_mask = data_france_sales[years_vector_mask].astype(np.float)    \n",
    "    #calculo el desvio del vector que tiene todas las ventas de dicho año\n",
    "    desvio_year = precios_year_mask.std()\n",
    "    #guardo el resultado del desvio en la lista vacia\n",
    "    desvios.append(desvio_year)\n",
    "\n",
    "print(desvios)\n",
    "\n",
    "#calculo el desvio max en la lista de tres desvios, uno para cada año\n",
    "desvio_max = np.array(desvios).max()\n",
    "#crea una mascara de la lista de desvios, donde es true cuando el desvio es maximo\n",
    "desvios_max_mask = desvios == desvio_max\n",
    "#aplico dicha mascara al vector de años unicos\n",
    "year_desvio_max = years_unique[desvios_max_mask]\n",
    "print(year_desvio_max)\n",
    "print(type(year_desvio_max))    \n"
   ]
  },
  {
   "cell_type": "code",
   "execution_count": 54,
   "metadata": {},
   "outputs": [
    {
     "name": "stdout",
     "output_type": "stream",
     "text": [
      "[ 5  6  7  8  9 10 11]\n",
      "[ 0  1  2  3  4  5  6  7  8  9 10 11 12 13 14]\n"
     ]
    }
   ],
   "source": [
    "a=np.arange(15)\n",
    "\n",
    "maska= a>=5\n",
    "maskb= a<=11\n",
    "maskc=np.logical_and(maska,maskb)\n",
    "print(a[maskc])\n",
    "\n",
    "print(a)"
   ]
  }
 ],
 "metadata": {
  "kernelspec": {
   "display_name": "Python 3.8.13 ('dhdsblend2021')",
   "language": "python",
   "name": "python3"
  },
  "language_info": {
   "codemirror_mode": {
    "name": "ipython",
    "version": 3
   },
   "file_extension": ".py",
   "mimetype": "text/x-python",
   "name": "python",
   "nbconvert_exporter": "python",
   "pygments_lexer": "ipython3",
   "version": "3.8.13"
  },
  "vscode": {
   "interpreter": {
    "hash": "b43af2114f43bcf982d0b53b081e4c6c708721cc588721c6f40c2d9852c4cd7b"
   }
  }
 },
 "nbformat": 4,
 "nbformat_minor": 4
}
