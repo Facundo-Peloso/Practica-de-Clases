{
 "cells": [
  {
   "cell_type": "code",
   "execution_count": 17,
   "metadata": {},
   "outputs": [
    {
     "name": "stdout",
     "output_type": "stream",
     "text": [
      "/media/paulati/Nuevo vol/paula/dh/2021/dsad_2021_paula/common\n",
      "default checking\n",
      "Running command `conda list`... ok\n",
      "jupyterlab=2.2.6 already installed\n",
      "pandas=1.1.5 already installed\n",
      "bokeh=2.2.3 already installed\n",
      "seaborn=0.11.0 already installed\n",
      "matplotlib=3.3.2 already installed\n",
      "ipywidgets=7.5.1 already installed\n",
      "pytest=6.2.1 already installed\n",
      "chardet=4.0.0 already installed\n",
      "psutil=5.7.2 already installed\n",
      "scipy=1.5.2 already installed\n",
      "statsmodels=0.12.1 already installed\n",
      "scikit-learn=0.23.2 already installed\n",
      "xlrd=2.0.1 already installed\n",
      "Running command `conda install --yes nltk=3.5.0`... ok\n",
      "Collecting package metadata (current_repodata.json): ...working... done\n",
      "Solving environment: ...working... done\n",
      "\n",
      "# All requested packages already installed.\n",
      "\n",
      "\n",
      "unidecode=1.1.1 already installed\n",
      "pydotplus=2.0.2 already installed\n",
      "pandas-datareader=0.9.0 already installed\n",
      "flask=1.1.2 already installed\n"
     ]
    }
   ],
   "source": [
    "%run \"../../../common/0_notebooks_base_setup.py\"    "
   ]
  },
  {
   "cell_type": "markdown",
   "metadata": {},
   "source": [
    "---\n",
    "\n",
    "<img src='../../../common/logo_DH.png' align='left' width=35%/>\n"
   ]
  },
  {
   "cell_type": "markdown",
   "metadata": {},
   "source": [
    "#### Distribución Bernoulli\n",
    "\n",
    "La distribución Bernoulli es una **distribución de probabilidad discreta**.\n",
    "\n",
    "Un ensayo Bernoulli se define como un experimento aleatorio con sólo dos resultados posibles: éxito o fracaso.\n",
    "\n",
    "La probabilidad de éxito es $p$ y la probabilidad de fracaso es $1-p$\n",
    "\n",
    "Definimos la variable aleatoria X como la función de mapea el resultado éxito al número 1, y fracaso al número 0. Entonces X tiene distribución Bernoulli con parámetro $p \\in (0,1) \\hspace{0.5cm} X \\sim Be(p)$\n",
    "\n",
    "La función de probabilidad es\n",
    "\n",
    "\\begin{equation}\n",
    "  f_X(x)=\\begin{cases}\n",
    "    1-p, & \\text{si $x = 0$} \\\\\n",
    "    p, & \\text{si $x = 1$} \\\\\n",
    "    0, & \\text{en otro caso}\n",
    "  \\end{cases}\n",
    "\\end{equation}\n",
    "\n",
    "Que también puede escribirse como\n",
    "\n",
    "\\begin{equation}\n",
    "  f_X(x)=\\begin{cases}\n",
    "    p^{x}(1-p)^{1-x}, & \\text{si $x \\in \\{0, 1\\}$} \\\\    \n",
    "    0, & \\text{en otro caso}\n",
    "  \\end{cases}\n",
    "\\end{equation}\n",
    "\n",
    "**Ejemplos**:\n",
    "\n",
    "* X: un tratamiento médico es efectivo\n",
    "\n",
    "* X: al lanzar una moneda sale cara\n",
    "\n",
    "* X: al lanzar un dado sale 3\n",
    "\n",
    "---"
   ]
  },
  {
   "cell_type": "markdown",
   "metadata": {},
   "source": [
    "Vamos a ver ahora cómo generar datos con esta distibución de probabilidad.\n",
    "\n",
    "Necesitamos un generador de números aleatorios, que expone métodos para generar números aleatorios con alguna distribución de probabilidad especificada. Construimos este generador de este modo `np.random.default_rng()`\n",
    "\n",
    "https://docs.scipy.org/doc/numpy/reference/random/generator.html\n",
    "\n",
    "Estas son las distribuciones de probabilidad disponibles:\n",
    "https://docs.scipy.org/doc/numpy/reference/random/generator.html#distributions\n",
    "\n",
    "Recordemos que la distribución de Bernoulli es un caso particular de la distribucón Binomial con una única repetición. Por eso vamos a generar datos con distribución empleando el método `binomial` con `n=1` https://docs.scipy.org/doc/numpy/reference/random/generated/numpy.random.Generator.binomial.html#numpy.random.Generator.binomial\n"
   ]
  },
  {
   "cell_type": "code",
   "execution_count": 1,
   "metadata": {},
   "outputs": [],
   "source": [
    "import numpy as np\n",
    "random_generator = np.random.default_rng()\n",
    "sample_size = 1000\n",
    "random_bernoulli_data = random_generator.binomial(n=1, p = 0.7, size = sample_size)"
   ]
  },
  {
   "cell_type": "markdown",
   "metadata": {},
   "source": [
    "Usamos la misma función `distribution_plotter` para graficar los datos generados"
   ]
  },
  {
   "cell_type": "code",
   "execution_count": 2,
   "metadata": {},
   "outputs": [],
   "source": [
    "import seaborn as sns\n",
    "    \n",
    "def distribution_plotter(data, label, color = 'steelblue', \n",
    "                         bins='auto', binrange=None, binwidth=0.5 ):    \n",
    "    sns.set(rc={\"figure.figsize\": (10, 7)})\n",
    "    sns.set_style(\"white\")    \n",
    "    dist = sns.histplot(data, bins= bins, stat = 'density', kde = True, line_kws={'linewidth':5}, \n",
    "                        color = color, thresh = None, \n",
    "                        binrange = binrange, binwidth=binwidth)\n",
    "    dist.set_title('Distribucion ' + label + '\\n', fontsize=16)    \n",
    "    "
   ]
  },
  {
   "cell_type": "code",
   "execution_count": 6,
   "metadata": {},
   "outputs": [
    {
     "data": {
      "image/png": "[encoded data removed]",
      "text/plain": [
       "<Figure size 1000x700 with 1 Axes>"
      ]
     },
     "metadata": {},
     "output_type": "display_data"
    }
   ],
   "source": [
    "#print(random_bernoulli_data)\n",
    "distribution_plotter(random_bernoulli_data, \"bernoulli\", bins=[0,1,2], binwidth = 0.1, binrange=(-0.25, 1.25))"
   ]
  },
  {
   "cell_type": "markdown",
   "metadata": {},
   "source": [
    "#### Referencias\n",
    "\n",
    "https://www.statisticshowto.datasciencecentral.com/bernoulli-distribution/\n",
    "\n",
    "Gráficos: https://en.wikipedia.org/wiki/List_of_probability_distributions"
   ]
  }
 ],
 "metadata": {
  "kernelspec": {
   "display_name": "Python 3.8.13 ('dhdsblend2021')",
   "language": "python",
   "name": "python3"
  },
  "language_info": {
   "codemirror_mode": {
    "name": "ipython",
    "version": 3
   },
   "file_extension": ".py",
   "mimetype": "text/x-python",
   "name": "python",
   "nbconvert_exporter": "python",
   "pygments_lexer": "ipython3",
   "version": "3.8.13"
  },
  "vscode": {
   "interpreter": {
    "hash": "b43af2114f43bcf982d0b53b081e4c6c708721cc588721c6f40c2d9852c4cd7b"
   }
  }
 },
 "nbformat": 4,
 "nbformat_minor": 4
}
